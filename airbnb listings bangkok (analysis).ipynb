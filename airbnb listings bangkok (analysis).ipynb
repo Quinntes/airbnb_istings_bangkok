{
 "cells": [
  {
   "cell_type": "markdown",
   "id": "c2ddb06d",
   "metadata": {},
   "source": [
    "## Import Library\n",
    "Pada tahap ini, kita akan mengimpor library yang diperlukan untuk analisis data dan visualisasi. Beberapa library yang akan digunakan di antaranya:"
   ]
  },
  {
   "cell_type": "code",
   "execution_count": 1,
   "id": "d3bcaf9c",
   "metadata": {},
   "outputs": [],
   "source": [
    "# Import library yang akan digunakan\n",
    "import pandas as pd\n",
    "import numpy as np\n",
    "import matplotlib.pyplot as plt\n",
    "import seaborn as sns\n",
    "from scipy import stats\n",
    "import requests\n",
    "import folium\n",
    "\n",
    "import warnings\n",
    "warnings.filterwarnings('ignore')"
   ]
  },
  {
   "cell_type": "markdown",
   "id": "0e0e2602",
   "metadata": {},
   "source": [
    "## Load Dataset\n",
    "Langkah pertama dalam analisis ini adalah memuat dataset yang akan digunakan. \n",
    "Impor data dilakukan dari dua sumber: \n",
    "- Dataset utama dalam format CSV yang berisi informasi mengenai listing Airbnb di Bangkok.\n",
    "- Data GeoJSON yang menggambarkan distrik-distrik di Bangkok yang akan digunakan untuk visualisasi geografis."
   ]
  },
  {
   "cell_type": "code",
   "execution_count": 2,
   "id": "61c93df3",
   "metadata": {},
   "outputs": [],
   "source": [
    "# Load clean dataset Airbnb Listings Bangkok\n",
    "url = 'https://raw.githubusercontent.com/Quinntes/airbnb_listings_bangkok/refs/heads/main/cleaned_airbnb_bangkok.csv'\n",
    "df = pd.read_csv(url)"
   ]
  },
  {
   "cell_type": "code",
   "execution_count": 5,
   "id": "87abee14",
   "metadata": {},
   "outputs": [
    {
     "data": {
      "text/html": [
       "<div>\n",
       "<style scoped>\n",
       "    .dataframe tbody tr th:only-of-type {\n",
       "        vertical-align: middle;\n",
       "    }\n",
       "\n",
       "    .dataframe tbody tr th {\n",
       "        vertical-align: top;\n",
       "    }\n",
       "\n",
       "    .dataframe thead th {\n",
       "        text-align: right;\n",
       "    }\n",
       "</style>\n",
       "<table border=\"1\" class=\"dataframe\">\n",
       "  <thead>\n",
       "    <tr style=\"text-align: right;\">\n",
       "      <th></th>\n",
       "      <th>id</th>\n",
       "      <th>name</th>\n",
       "      <th>host_id</th>\n",
       "      <th>host_name</th>\n",
       "      <th>neighbourhood</th>\n",
       "      <th>latitude</th>\n",
       "      <th>longitude</th>\n",
       "      <th>room_type</th>\n",
       "      <th>price</th>\n",
       "      <th>minimum_nights</th>\n",
       "      <th>number_of_reviews</th>\n",
       "      <th>last_review</th>\n",
       "      <th>reviews_per_month</th>\n",
       "      <th>calculated_host_listings_count</th>\n",
       "      <th>availability_365</th>\n",
       "      <th>number_of_reviews_ltm</th>\n",
       "      <th>has_review</th>\n",
       "    </tr>\n",
       "  </thead>\n",
       "  <tbody>\n",
       "    <tr>\n",
       "      <th>0</th>\n",
       "      <td>27934</td>\n",
       "      <td>Nice room with superb city view</td>\n",
       "      <td>120437</td>\n",
       "      <td>Nuttee</td>\n",
       "      <td>Ratchathewi</td>\n",
       "      <td>13.75983</td>\n",
       "      <td>100.54134</td>\n",
       "      <td>Entire home/apt</td>\n",
       "      <td>1905.0</td>\n",
       "      <td>3</td>\n",
       "      <td>65</td>\n",
       "      <td>2020-01-06</td>\n",
       "      <td>0.50</td>\n",
       "      <td>2</td>\n",
       "      <td>353</td>\n",
       "      <td>0</td>\n",
       "      <td>1</td>\n",
       "    </tr>\n",
       "    <tr>\n",
       "      <th>1</th>\n",
       "      <td>27979</td>\n",
       "      <td>Easy going landlord,easy place</td>\n",
       "      <td>120541</td>\n",
       "      <td>Emy</td>\n",
       "      <td>Bang Na</td>\n",
       "      <td>13.66818</td>\n",
       "      <td>100.61674</td>\n",
       "      <td>Private room</td>\n",
       "      <td>1316.0</td>\n",
       "      <td>1</td>\n",
       "      <td>0</td>\n",
       "      <td>NaN</td>\n",
       "      <td>0.00</td>\n",
       "      <td>2</td>\n",
       "      <td>358</td>\n",
       "      <td>0</td>\n",
       "      <td>0</td>\n",
       "    </tr>\n",
       "    <tr>\n",
       "      <th>2</th>\n",
       "      <td>28745</td>\n",
       "      <td>modern-style apartment in Bangkok</td>\n",
       "      <td>123784</td>\n",
       "      <td>Familyroom</td>\n",
       "      <td>Bang Kapi</td>\n",
       "      <td>13.75232</td>\n",
       "      <td>100.62402</td>\n",
       "      <td>Private room</td>\n",
       "      <td>800.0</td>\n",
       "      <td>60</td>\n",
       "      <td>0</td>\n",
       "      <td>NaN</td>\n",
       "      <td>0.00</td>\n",
       "      <td>1</td>\n",
       "      <td>365</td>\n",
       "      <td>0</td>\n",
       "      <td>0</td>\n",
       "    </tr>\n",
       "    <tr>\n",
       "      <th>3</th>\n",
       "      <td>35780</td>\n",
       "      <td>Spacious one bedroom at The Kris Condo Bldg. 3</td>\n",
       "      <td>153730</td>\n",
       "      <td>Sirilak</td>\n",
       "      <td>Din Daeng</td>\n",
       "      <td>13.78823</td>\n",
       "      <td>100.57256</td>\n",
       "      <td>Private room</td>\n",
       "      <td>1286.0</td>\n",
       "      <td>7</td>\n",
       "      <td>2</td>\n",
       "      <td>2022-04-01</td>\n",
       "      <td>0.03</td>\n",
       "      <td>1</td>\n",
       "      <td>323</td>\n",
       "      <td>1</td>\n",
       "      <td>1</td>\n",
       "    </tr>\n",
       "    <tr>\n",
       "      <th>4</th>\n",
       "      <td>941865</td>\n",
       "      <td>Suite Room 3 at MetroPoint</td>\n",
       "      <td>610315</td>\n",
       "      <td>Kasem</td>\n",
       "      <td>Bang Kapi</td>\n",
       "      <td>13.76872</td>\n",
       "      <td>100.63338</td>\n",
       "      <td>Private room</td>\n",
       "      <td>1905.0</td>\n",
       "      <td>1</td>\n",
       "      <td>0</td>\n",
       "      <td>NaN</td>\n",
       "      <td>0.00</td>\n",
       "      <td>3</td>\n",
       "      <td>365</td>\n",
       "      <td>0</td>\n",
       "      <td>0</td>\n",
       "    </tr>\n",
       "  </tbody>\n",
       "</table>\n",
       "</div>"
      ],
      "text/plain": [
       "       id                                            name  host_id  \\\n",
       "0   27934                 Nice room with superb city view   120437   \n",
       "1   27979                  Easy going landlord,easy place   120541   \n",
       "2   28745               modern-style apartment in Bangkok   123784   \n",
       "3   35780  Spacious one bedroom at The Kris Condo Bldg. 3   153730   \n",
       "4  941865                      Suite Room 3 at MetroPoint   610315   \n",
       "\n",
       "    host_name neighbourhood  latitude  longitude        room_type   price  \\\n",
       "0      Nuttee   Ratchathewi  13.75983  100.54134  Entire home/apt  1905.0   \n",
       "1         Emy       Bang Na  13.66818  100.61674     Private room  1316.0   \n",
       "2  Familyroom     Bang Kapi  13.75232  100.62402     Private room   800.0   \n",
       "3     Sirilak     Din Daeng  13.78823  100.57256     Private room  1286.0   \n",
       "4       Kasem     Bang Kapi  13.76872  100.63338     Private room  1905.0   \n",
       "\n",
       "   minimum_nights  number_of_reviews last_review  reviews_per_month  \\\n",
       "0               3                 65  2020-01-06               0.50   \n",
       "1               1                  0         NaN               0.00   \n",
       "2              60                  0         NaN               0.00   \n",
       "3               7                  2  2022-04-01               0.03   \n",
       "4               1                  0         NaN               0.00   \n",
       "\n",
       "   calculated_host_listings_count  availability_365  number_of_reviews_ltm  \\\n",
       "0                               2               353                      0   \n",
       "1                               2               358                      0   \n",
       "2                               1               365                      0   \n",
       "3                               1               323                      1   \n",
       "4                               3               365                      0   \n",
       "\n",
       "   has_review  \n",
       "0           1  \n",
       "1           0  \n",
       "2           0  \n",
       "3           1  \n",
       "4           0  "
      ]
     },
     "execution_count": 5,
     "metadata": {},
     "output_type": "execute_result"
    }
   ],
   "source": [
    "df.head()"
   ]
  },
  {
   "cell_type": "code",
   "execution_count": 6,
   "id": "9594741c",
   "metadata": {},
   "outputs": [
    {
     "name": "stdout",
     "output_type": "stream",
     "text": [
      "<class 'pandas.core.frame.DataFrame'>\n",
      "RangeIndex: 15838 entries, 0 to 15837\n",
      "Data columns (total 17 columns):\n",
      " #   Column                          Non-Null Count  Dtype  \n",
      "---  ------                          --------------  -----  \n",
      " 0   id                              15838 non-null  int64  \n",
      " 1   name                            15838 non-null  object \n",
      " 2   host_id                         15838 non-null  int64  \n",
      " 3   host_name                       15838 non-null  object \n",
      " 4   neighbourhood                   15838 non-null  object \n",
      " 5   latitude                        15838 non-null  float64\n",
      " 6   longitude                       15838 non-null  float64\n",
      " 7   room_type                       15838 non-null  object \n",
      " 8   price                           15838 non-null  float64\n",
      " 9   minimum_nights                  15838 non-null  int64  \n",
      " 10  number_of_reviews               15838 non-null  int64  \n",
      " 11  last_review                     10057 non-null  object \n",
      " 12  reviews_per_month               15838 non-null  float64\n",
      " 13  calculated_host_listings_count  15838 non-null  int64  \n",
      " 14  availability_365                15838 non-null  int64  \n",
      " 15  number_of_reviews_ltm           15838 non-null  int64  \n",
      " 16  has_review                      15838 non-null  int64  \n",
      "dtypes: float64(4), int64(8), object(5)\n",
      "memory usage: 2.1+ MB\n"
     ]
    }
   ],
   "source": [
    "df.info()"
   ]
  },
  {
   "cell_type": "code",
   "execution_count": 7,
   "id": "a3433b6e",
   "metadata": {},
   "outputs": [
    {
     "data": {
      "text/html": [
       "<div>\n",
       "<style scoped>\n",
       "    .dataframe tbody tr th:only-of-type {\n",
       "        vertical-align: middle;\n",
       "    }\n",
       "\n",
       "    .dataframe tbody tr th {\n",
       "        vertical-align: top;\n",
       "    }\n",
       "\n",
       "    .dataframe thead th {\n",
       "        text-align: right;\n",
       "    }\n",
       "</style>\n",
       "<table border=\"1\" class=\"dataframe\">\n",
       "  <thead>\n",
       "    <tr style=\"text-align: right;\">\n",
       "      <th></th>\n",
       "      <th>id</th>\n",
       "      <th>host_id</th>\n",
       "      <th>latitude</th>\n",
       "      <th>longitude</th>\n",
       "      <th>price</th>\n",
       "      <th>minimum_nights</th>\n",
       "      <th>number_of_reviews</th>\n",
       "      <th>reviews_per_month</th>\n",
       "      <th>calculated_host_listings_count</th>\n",
       "      <th>availability_365</th>\n",
       "      <th>number_of_reviews_ltm</th>\n",
       "      <th>has_review</th>\n",
       "    </tr>\n",
       "  </thead>\n",
       "  <tbody>\n",
       "    <tr>\n",
       "      <th>count</th>\n",
       "      <td>1.583800e+04</td>\n",
       "      <td>1.583800e+04</td>\n",
       "      <td>15838.000000</td>\n",
       "      <td>15838.000000</td>\n",
       "      <td>1.583800e+04</td>\n",
       "      <td>15838.000000</td>\n",
       "      <td>15838.000000</td>\n",
       "      <td>15838.000000</td>\n",
       "      <td>15838.000000</td>\n",
       "      <td>15838.000000</td>\n",
       "      <td>15838.000000</td>\n",
       "      <td>15838.000000</td>\n",
       "    </tr>\n",
       "    <tr>\n",
       "      <th>mean</th>\n",
       "      <td>1.580992e+17</td>\n",
       "      <td>1.541276e+08</td>\n",
       "      <td>13.745147</td>\n",
       "      <td>100.559897</td>\n",
       "      <td>3.202245e+03</td>\n",
       "      <td>14.603738</td>\n",
       "      <td>16.645347</td>\n",
       "      <td>0.516450</td>\n",
       "      <td>13.900871</td>\n",
       "      <td>244.387865</td>\n",
       "      <td>3.484720</td>\n",
       "      <td>0.634992</td>\n",
       "    </tr>\n",
       "    <tr>\n",
       "      <th>std</th>\n",
       "      <td>2.947075e+17</td>\n",
       "      <td>1.318700e+08</td>\n",
       "      <td>0.043038</td>\n",
       "      <td>0.050917</td>\n",
       "      <td>2.494666e+04</td>\n",
       "      <td>44.715992</td>\n",
       "      <td>40.569606</td>\n",
       "      <td>0.952981</td>\n",
       "      <td>30.282910</td>\n",
       "      <td>125.812240</td>\n",
       "      <td>8.920788</td>\n",
       "      <td>0.481448</td>\n",
       "    </tr>\n",
       "    <tr>\n",
       "      <th>min</th>\n",
       "      <td>2.793400e+04</td>\n",
       "      <td>5.892000e+04</td>\n",
       "      <td>13.527300</td>\n",
       "      <td>100.329550</td>\n",
       "      <td>2.780000e+02</td>\n",
       "      <td>1.000000</td>\n",
       "      <td>0.000000</td>\n",
       "      <td>0.000000</td>\n",
       "      <td>1.000000</td>\n",
       "      <td>0.000000</td>\n",
       "      <td>0.000000</td>\n",
       "      <td>0.000000</td>\n",
       "    </tr>\n",
       "    <tr>\n",
       "      <th>25%</th>\n",
       "      <td>2.104510e+07</td>\n",
       "      <td>3.974431e+07</td>\n",
       "      <td>13.720092</td>\n",
       "      <td>100.529690</td>\n",
       "      <td>9.000000e+02</td>\n",
       "      <td>1.000000</td>\n",
       "      <td>0.000000</td>\n",
       "      <td>0.000000</td>\n",
       "      <td>1.000000</td>\n",
       "      <td>138.000000</td>\n",
       "      <td>0.000000</td>\n",
       "      <td>0.000000</td>\n",
       "    </tr>\n",
       "    <tr>\n",
       "      <th>50%</th>\n",
       "      <td>3.503734e+07</td>\n",
       "      <td>1.224556e+08</td>\n",
       "      <td>13.738490</td>\n",
       "      <td>100.561400</td>\n",
       "      <td>1.429000e+03</td>\n",
       "      <td>1.000000</td>\n",
       "      <td>2.000000</td>\n",
       "      <td>0.090000</td>\n",
       "      <td>4.000000</td>\n",
       "      <td>309.000000</td>\n",
       "      <td>0.000000</td>\n",
       "      <td>1.000000</td>\n",
       "    </tr>\n",
       "    <tr>\n",
       "      <th>75%</th>\n",
       "      <td>5.259990e+07</td>\n",
       "      <td>2.390547e+08</td>\n",
       "      <td>13.759497</td>\n",
       "      <td>100.585148</td>\n",
       "      <td>2.429000e+03</td>\n",
       "      <td>7.000000</td>\n",
       "      <td>13.000000</td>\n",
       "      <td>0.670000</td>\n",
       "      <td>13.000000</td>\n",
       "      <td>360.000000</td>\n",
       "      <td>3.000000</td>\n",
       "      <td>1.000000</td>\n",
       "    </tr>\n",
       "    <tr>\n",
       "      <th>max</th>\n",
       "      <td>7.908162e+17</td>\n",
       "      <td>4.926659e+08</td>\n",
       "      <td>13.953540</td>\n",
       "      <td>100.923440</td>\n",
       "      <td>1.100000e+06</td>\n",
       "      <td>365.000000</td>\n",
       "      <td>1224.000000</td>\n",
       "      <td>19.130000</td>\n",
       "      <td>228.000000</td>\n",
       "      <td>365.000000</td>\n",
       "      <td>325.000000</td>\n",
       "      <td>1.000000</td>\n",
       "    </tr>\n",
       "  </tbody>\n",
       "</table>\n",
       "</div>"
      ],
      "text/plain": [
       "                 id       host_id      latitude     longitude         price  \\\n",
       "count  1.583800e+04  1.583800e+04  15838.000000  15838.000000  1.583800e+04   \n",
       "mean   1.580992e+17  1.541276e+08     13.745147    100.559897  3.202245e+03   \n",
       "std    2.947075e+17  1.318700e+08      0.043038      0.050917  2.494666e+04   \n",
       "min    2.793400e+04  5.892000e+04     13.527300    100.329550  2.780000e+02   \n",
       "25%    2.104510e+07  3.974431e+07     13.720092    100.529690  9.000000e+02   \n",
       "50%    3.503734e+07  1.224556e+08     13.738490    100.561400  1.429000e+03   \n",
       "75%    5.259990e+07  2.390547e+08     13.759497    100.585148  2.429000e+03   \n",
       "max    7.908162e+17  4.926659e+08     13.953540    100.923440  1.100000e+06   \n",
       "\n",
       "       minimum_nights  number_of_reviews  reviews_per_month  \\\n",
       "count    15838.000000       15838.000000       15838.000000   \n",
       "mean        14.603738          16.645347           0.516450   \n",
       "std         44.715992          40.569606           0.952981   \n",
       "min          1.000000           0.000000           0.000000   \n",
       "25%          1.000000           0.000000           0.000000   \n",
       "50%          1.000000           2.000000           0.090000   \n",
       "75%          7.000000          13.000000           0.670000   \n",
       "max        365.000000        1224.000000          19.130000   \n",
       "\n",
       "       calculated_host_listings_count  availability_365  \\\n",
       "count                    15838.000000      15838.000000   \n",
       "mean                        13.900871        244.387865   \n",
       "std                         30.282910        125.812240   \n",
       "min                          1.000000          0.000000   \n",
       "25%                          1.000000        138.000000   \n",
       "50%                          4.000000        309.000000   \n",
       "75%                         13.000000        360.000000   \n",
       "max                        228.000000        365.000000   \n",
       "\n",
       "       number_of_reviews_ltm    has_review  \n",
       "count           15838.000000  15838.000000  \n",
       "mean                3.484720      0.634992  \n",
       "std                 8.920788      0.481448  \n",
       "min                 0.000000      0.000000  \n",
       "25%                 0.000000      0.000000  \n",
       "50%                 0.000000      1.000000  \n",
       "75%                 3.000000      1.000000  \n",
       "max               325.000000      1.000000  "
      ]
     },
     "execution_count": 7,
     "metadata": {},
     "output_type": "execute_result"
    }
   ],
   "source": [
    "df.describe()"
   ]
  },
  {
   "cell_type": "markdown",
   "id": "31638433",
   "metadata": {},
   "source": [
    "# Exploratory Data Analysis (EDA)\n",
    "Setelah data bersih dan kaya fitur, maka selanjutnya masuk ke tahap *Exploratory Data Analysis (EDA)*. Di sini, tiap visualisasi dan analisis akan diarahkan untuk menjawab pertanyaan bisnis yang sudah dirumuskan."
   ]
  },
  {
   "cell_type": "markdown",
   "id": "8803f0af",
   "metadata": {},
   "source": [
    "## 1. Distribusi Dasar dari Atribut Utama dalam Dataset\n",
    "Sebelum masuk ke faktor performa seperti harga, review, atau okupansi, kita perlu memahami dulu landscape supply alias karakteristik penawaran listing di Airbnb Bangkok."
   ]
  },
  {
   "cell_type": "markdown",
   "id": "bbe6e6e1",
   "metadata": {},
   "source": [
    "### 1.1 `room_type` Apa yang Paling Dominan di Bangkok?\n",
    "Untuk memahami dinamika pasar listing Airbnb di Bangkok, pertama-tama perlu mengetahui tipe kamar yang paling dominan. Hal ini penting karena tipe kamar menentukan ekspektasi tamu serta pengelolaan dan harga yang diterapkan oleh host."
   ]
  },
  {
   "cell_type": "code",
   "execution_count": null,
   "id": "03ffbf42",
   "metadata": {},
   "outputs": [],
   "source": [
    "# palet Rausch\n",
    "rausch = ['#FF5A5F', '#FF7A7E', '#FF9A9F', '#FFBBBF']\n",
    "\n",
    "plt.figure(figsize=(8, 5))\n",
    "sns.countplot(\n",
    "    data=df,\n",
    "    x='room_type',\n",
    "    order=df['room_type'].value_counts().index,\n",
    "    palette=rausch\n",
    ")\n",
    "plt.title('Room Type Paling Dominan di Airbnb Bangkok')\n",
    "plt.xlabel('Room Type', fontsize=12)\n",
    "plt.ylabel('Jumlah Listing', fontsize=12)\n",
    "plt.show()"
   ]
  },
  {
   "cell_type": "markdown",
   "id": "657a12f8",
   "metadata": {},
   "source": [
    "**Insight :**\n",
    "- Entire home/apt terlihat jauh lebih tinggi jumlah listingnya dibandingkan 3 tipe lainnya.\n",
    "- Berdasarkan praktik umum di pasar Airbnb, sewa satu unit penuh (Entire home/apt) adalah jenis paling populer secara global, karena menawarkan:\n",
    "    - Privasi penuh\n",
    "    - Fleksibilitas waktu\n",
    "    - Cocok untuk keluarga atau grup\n",
    "- Shared room dan Hotel room cenderung:\n",
    "    - Dipilih oleh budget travelers.\n",
    "    - Kurang populer jika dibandingkan dengan privasi yang ditawarkan oleh unit full.\n",
    "\n",
    "Setelah mengetahui tipe kamar yang paling banyak ditemukan, selanjutnya melihat di mana lokasi atau neighborhood dengan jumlah listing terbanyak, untuk memahami kawasan mana yang paling kompetitif di pasar."
   ]
  },
  {
   "cell_type": "markdown",
   "id": "f1415d71",
   "metadata": {},
   "source": [
    "### 1.2 `Neigborhood` Mana yang Memiliki Supply Listing Terbanyak?\n",
    "Mengetahui lokasi dengan jumlah listing terbanyak akan memberi wawasan tentang area yang paling kompetitif di pasar Airbnb Bangkok. Beberapa neighbourhood mungkin memiliki konsentrasi supply yang tinggi, yang bisa mengindikasikan bahwa di area tersebut, persaingan antara host lebih ketat."
   ]
  },
  {
   "cell_type": "markdown",
   "id": "1e4dc46c",
   "metadata": {},
   "source": [
    "Berikut adalah peta distribusi listing Airbnb di Bangkok, yang memberikan gambaran tentang konsentrasi listing di berbagai neighborhood. Peta ini akan membantu kita untuk lebih mudah memahami di mana lokasi yang memiliki jumlah listing terbanyak dan akan menjadi titik fokus analisis berikutnya."
   ]
  },
  {
   "cell_type": "code",
   "execution_count": null,
   "id": "7dfcecc5",
   "metadata": {},
   "outputs": [],
   "source": [
    "import folium\n",
    "from folium.plugins import MarkerCluster\n",
    "\n",
    "# Membuat peta dasar\n",
    "map_bangkok = folium.Map(location=[13.7563, 100.5018], zoom_start=12)\n",
    "\n",
    "# Menambahkan MarkerCluster untuk menandai lokasi listing\n",
    "marker_cluster = MarkerCluster().add_to(map_bangkok)\n",
    "\n",
    "# Menambahkan marker untuk setiap listing\n",
    "for idx, row in df_copy.iterrows():\n",
    "    folium.Marker(\n",
    "        location=[row['latitude'], row['longitude']],\n",
    "        popup=row['neighbourhood']\n",
    "    ).add_to(marker_cluster)\n",
    "\n",
    "# Menampilkan peta\n",
    "map_bangkok.save('bangkok_airbnb_map.html')\n",
    "map_bangkok"
   ]
  },
  {
   "cell_type": "code",
   "execution_count": null,
   "id": "dc6cf90b",
   "metadata": {},
   "outputs": [],
   "source": [
    "# Memeriksa 10 neighbourhood dengan jumlah listing terbanyak\n",
    "top_neigh = df_copy['neighbourhood'].value_counts().head(10)\n",
    "\n",
    "# Visualisasi menggunakan barplot\n",
    "plt.figure(figsize=(10, 5))\n",
    "sns.barplot(x=top_neigh.values, y=top_neigh.index, color='#FF5A5F')\n",
    "plt.title('10 Neighborhood dengan Jumlah Listing Tertinggi')\n",
    "plt.xlabel('Jumlah Listing')\n",
    "plt.ylabel('Neighbourhood')\n",
    "plt.show()"
   ]
  },
  {
   "cell_type": "markdown",
   "id": "d40fc1f6",
   "metadata": {},
   "source": [
    "**Insight :**\n",
    "- Vadhana dan Khlong Toei menempati posisi teratas, masing-masing dengan lebih dari 2.000 listing.\n",
    "- Tingginya jumlah listing di beberapa neighborhood dapat mengindikasikan:\n",
    "    - Konsentrasi supply yang lebih tinggi.\n",
    "    - Potensi kompetisi antar host yang lebih ketat di area tersebut.\n",
    "\n",
    "Namun, mengetahui hanya jumlah listing belum cukup untuk memberi gambaran menyeluruh. Oleh karena itu, perlu mengkaji lebih dalam apakah ada keterkaitan antara tipe kamar yang dominan dengan lokasi tertentu. Dengan kata lain, tipe kamar tertentu mungkin lebih populer di neighborhood tertentu."
   ]
  },
  {
   "cell_type": "markdown",
   "id": "281b48fc",
   "metadata": {},
   "source": [
    "### 1.3 Apakah tipe listing `room_type` tertentu lebih umum di area-area tertentu?\n",
    "Melalui pemetaan tipe kamar berdasarkan neighborhood, kita dapat melihat apakah preferensi pasar di suatu daerah berhubungan dengan jenis kamar yang ditawarkan. Hal ini dapat memberikan wawasan tentang kebutuhan pasar lokal yang lebih spesifik."
   ]
  },
  {
   "cell_type": "code",
   "execution_count": null,
   "id": "5a68532f",
   "metadata": {},
   "outputs": [],
   "source": [
    "# Visualisasi boxplot harga\n",
    "plt.figure(figsize=(12, 6))\n",
    "sns.boxplot(x=df_copy['price'])\n",
    "plt.title('Sebaran Harga di Listings Airbnb')\n",
    "plt.show()"
   ]
  },
  {
   "cell_type": "code",
   "execution_count": null,
   "id": "7a7062da",
   "metadata": {},
   "outputs": [],
   "source": [
    "# Ambil 5 neighborhood dengan proporsi tertinggi untuk setiap room_type\n",
    "top5_neigh = {}\n",
    "\n",
    "for room in crosstab.columns:\n",
    "    top5_neigh[room] = crosstab[room].sort_values(ascending=False).head(3) * 100  # jadi persen\n",
    "\n",
    "# Tampilkan hasilnya\n",
    "for room, top5 in top5_neigh.items():\n",
    "    print(f\"\\nTop 5 Neighborhood untuk {room}:\")\n",
    "    print(top5.round(2))"
   ]
  },
  {
   "cell_type": "markdown",
   "id": "572537d8",
   "metadata": {},
   "source": [
    "**Insight :**\n",
    "- Entire home/apt yang mendominasi, Khlong Toei (72.47%), Huai Khwang (68.98%), Sathon (68.81%).\n",
    "    -  Ini berarti mayoritas besar host di wilayah tersebut menawarkan properti full-unit, yang biasanya relevan untuk target pasar keluarga atau group traveler.\n",
    "- Entire home/apt yang mendominasi, Phra Nakhon (12.44%), Parthum Wan (9.91%), Lat Krabang (9.40%).\n",
    "    - Nilainya jauh lebih kecil karena supply hotel room di Airbnb Bangkok secara umum memang terbatas. Proporsi < 15% berarti hotel room di Airbnb bukan pilihan dominan di area mana pun.\n",
    "- Private room yang mendominasi, Nong Khaem (77.78%), Dusit (77.78%), Don Mueang (68.26%).\n",
    "    - Angka tinggi ini menunjukkan dominasi listing kamar pribadi di rumah/apartemen yang sudah dihuni, biasanya dari host individu.\n",
    "- Shared room yang mendominasi, Phra Nakhon (21.16%), Samphanthawong (11.40%), Lat Krabang (10.74%).\n",
    "    - Angka ini relatif kecil karena supply shared room di Bangkok memang sangat rendah di seluruh wilayah, jadi 21% pun sebenarnya berasal dari total listing yang sedikit.\n",
    "\n",
    "\n",
    "- Host yang ingin bermain di segmen entire home/apt sebaiknya mempertimbangkan Khlong Toei, Huai Khwang, dan Sathon karena pasarnya besar, tapi perlu analisis lanjut soal persaingan dan harga.\n",
    "- Untuk private room, wilayah seperti Nong Khaem dan Dusit bisa menjadi niche market bagi traveler budget atau long-term stay.\n",
    "- Hotel room & shared room sebaiknya hanya jadi opsi jika target pasar benar-benar sesuai, karena demand dan supply di Airbnb Bangkok relatif rendah.\n",
    "\n",
    "Dengan memahami preferensi ruang dan lokasi, kini saatnya menganalisis faktor lain yang turut mempengaruhi keberhasilan listing: durasi penginapan minimum. Menganalisis sebaran minimum_nights akan membantu memahami pola penginapan di berbagai tipe kamar."
   ]
  },
  {
   "cell_type": "markdown",
   "id": "6c6587ef",
   "metadata": {},
   "source": [
    "### 1.4 Bagaimana distribusi `minimum_nights` di tiap `room_type`?\n",
    "Distribusi jumlah `minimum_nights` yang ditetapkan untuk masing-masing tipe kamar memberikan gambaran tentang kebijakan penginapan jangka panjang dan pendek di Airbnb. Memahami distribusi ini penting bagi host untuk menyesuaikan strategi pengelolaan properti, baik untuk pasar yang lebih fleksibel maupun yang lebih terbatas."
   ]
  },
  {
   "cell_type": "code",
   "execution_count": null,
   "id": "4efd6925",
   "metadata": {},
   "outputs": [],
   "source": [
    "plt.figure(figsize=(8, 5))\n",
    "sns.boxplot(\n",
    "    data=df,\n",
    "    x='room_type',\n",
    "    y='minimum_nights',\n",
    "    color='#FF5A5F'  # Airbnb Rausch\n",
    ")\n",
    "plt.yscale('log')  # Skala log agar data ekstrem tetap terbaca\n",
    "plt.title('Distribusi Minimum Nights per Room Type', fontsize=14)\n",
    "plt.xlabel('Room Type')\n",
    "plt.ylabel('Minimum Nights (log scale)')\n",
    "plt.tight_layout()\n",
    "plt.show()"
   ]
  },
  {
   "cell_type": "markdown",
   "id": "84d7ef98",
   "metadata": {},
   "source": [
    "**Insight :**\n",
    "- Entire home/apt & Private room punya sebaran lebih lebar\n",
    "    - Ada banyak outlier ke arah minimum_nights yang tinggi, bahkan ratusan malam.\n",
    "    - Ini masuk akal kalau ada host yang menetapkan sewa jangka panjang.\n",
    "- Hotel room & Shared room terlihat seperti flat line\n",
    "    - Median, Q1, Q3 semuanya di 1 malam, hampir tanpa variasi.\n",
    "    - Ada sedikit outlier, tapi jumlahnya kecil sekali.\n",
    "    - Secara bisnis, ini masuk akal kalau hotel & shared room memang cenderung mengizinkan minimal 1 malam, tapi kita perlu pastikan dari data apakah benar hampir semua nilainya 1.\n",
    "- Potensi masalah data untuk Hotel room & Shared room\n",
    "    - Kalau nilainya seragam banget di 1 malam, kita perlu cek apakah itu karena memang pola pasar atau karena data entry bias (misalnya scraping hanya menangkap listing dengan nilai default)."
   ]
  },
  {
   "cell_type": "code",
   "execution_count": null,
   "id": "3fbc9cd0",
   "metadata": {},
   "outputs": [],
   "source": [
    "for room in ['Hotel room', 'Shared room']:\n",
    "    print(f'\\nDistribusi minimum_nights untuk {room} (ascending, top 5):')\n",
    "    print(\n",
    "        df.query(\"room_type == @room\")['minimum_nights']\n",
    "          .value_counts(normalize=True)\n",
    "          .sort_index()\n",
    "          .head(5)\n",
    "          .mul(100)\n",
    "          .round(3)\n",
    "          .reset_index(name='percent')\n",
    "          .assign(cumulative_percent=lambda x: x['percent'].cumsum().round(3))\n",
    "          .to_string(index=False)\n",
    "    )"
   ]
  },
  {
   "cell_type": "markdown",
   "id": "245c4bbc",
   "metadata": {},
   "source": [
    "**Insight :**\n",
    "- Lebih dari 91% listing di kedua kategori ini punya minimum_nights = 1.\n",
    "- Hampir semua sisanya ada di rentang 2–5 malam, sehingga cumulative_percent sudah >96% hanya dari lima nilai terendah.\n",
    "- Artinya variabilitasnya sangat kecil, jadi boxplot tidak punya “kotak” yang terlihat—semuanya menumpuk di satu titik.\n",
    "- Jadi ini bukan karena error atau cleaning belum sempurna, tapi memang kondisi data aslinya seperti itu.\n",
    "Itu kenapa visual boxplot untuk dua kategori ini terlihat rata dan tidak informatif.\n",
    "\n",
    "Selain itu, kita juga perlu memahami siapa yang menjadi penyedia listing di tiap neighborhood, yaitu tipe host yang terlibat. Analisis distribusi host_type di setiap neighborhood akan melengkapi pemahaman kita tentang siapa yang mendominasi pasar di setiap area."
   ]
  },
  {
   "cell_type": "markdown",
   "id": "aae92936",
   "metadata": {},
   "source": [
    "### 1.5 Bagaimana persebaran `host_type` disetiap neighborhood?\n",
    "Distribusi tipe host di setiap neighborhood memberi gambaran tentang siapa yang mengelola listing di kawasan tersebut, apakah individu, operator kecil, atau host profesional. Ini memberikan insight penting bagi strategi pemasaran dan optimisasi listing."
   ]
  },
  {
   "cell_type": "code",
   "execution_count": null,
   "id": "ced9a457",
   "metadata": {},
   "outputs": [],
   "source": [
    "# Buat crosstab untuk melihat proporsi host_type per neighbourhood\n",
    "crosstab = pd.crosstab(df['neighbourhood'], df['host_type'], normalize='index') * 100\n",
    "\n",
    "# Urutkan neighbourhood berdasarkan jumlah listing terbanyak\n",
    "neighbourhood_order = df['neighbourhood'].value_counts().index\n",
    "\n",
    "# Plot heatmap\n",
    "plt.figure(figsize=(10, 12))\n",
    "sns.heatmap(\n",
    "    crosstab.loc[neighbourhood_order],\n",
    "    cmap='Reds',\n",
    "    annot=True,\n",
    "    fmt='.2f',\n",
    "    linewidths=.5\n",
    ")\n",
    "\n",
    "plt.title('Proporsi Host Type di Setiap Neighborhood di Bangkok', fontsize=14)\n",
    "plt.xlabel('Host Type')\n",
    "plt.ylabel('Neighborhood')\n",
    "plt.tight_layout()\n",
    "plt.show()"
   ]
  },
  {
   "cell_type": "code",
   "execution_count": null,
   "id": "9fdfda90",
   "metadata": {},
   "outputs": [],
   "source": [
    "# ---- TABEL TOP 5 UNTUK SETIAP HOST TYPE ----\n",
    "for host in df['host_type'].unique():\n",
    "    top5 = crosstab[host].sort_values(ascending=False).head(5).reset_index()\n",
    "    top5.columns = ['neighbourhood', 'percent']\n",
    "    top5['percent'] = top5['percent'].round(2)\n",
    "    \n",
    "    print(f\"\\nTop 5 Neighborhood untuk {host}:\")\n",
    "    print(top5.to_string(index=False))"
   ]
  },
  {
   "cell_type": "markdown",
   "id": "8c7d96c3",
   "metadata": {},
   "source": [
    "**Insight :**\n",
    "- Small Operator paling terkonsentrasi di pinggiran kota atau area dekat bandara, seperti Lat Krabang (48.32%) dan Don Mueang (47.90%), yang keduanya merupakan lokasi strategis untuk wisatawan transit atau perjalanan singkat.\n",
    "- Single Host sangat dominan di area pinggiran atau permukiman lokal seperti Bang Khun Thain (80.95%), Bang Bon (80.00%), dan Sai Mai (72.50%), menunjukkan bahwa listing di wilayah ini kemungkinan besar dikelola oleh individu atau keluarga, bukan bisnis.\n",
    "- Professional Host terkonsentrasi di pusat kota atau area wisata utama seperti Sathon (64.85%), Ratchathewi (61.40%), dan Khlong Toei (59.11%), yang masuk akal karena potensi okupansi dan harga lebih tinggi di lokasi premium.\n",
    "\n",
    "Dengan berbagai analisis ini, maka telah dipahami bagaimana tipe kamar, lokasi, kebijakan penginapan, dan pengelolaan listing berhubungan satu sama lain. Di bagian berikutnya, akan memperdalam pemahaman dengan menggali faktor-faktor lain yang berpotensi memengaruhi performa listing."
   ]
  },
  {
   "cell_type": "markdown",
   "id": "b6daf0a8",
   "metadata": {},
   "source": [
    "## 2. Harga vs okupansi\n",
    "Harga merupakan salah satu faktor utama yang memengaruhi tingkat okupansi suatu listing di Airbnb. Dalam konteks ini, akan dilakukan analisis untuk mengetahui sejauh mana harga berhubungan dengan `availability_365`, apakah ada harga tertentu yang mencuptakan okupansi optimal, serta bagaimana harga berehubungan dengan `estimated_revenue`."
   ]
  },
  {
   "cell_type": "markdown",
   "id": "05ab0aaf",
   "metadata": {},
   "source": [
    "### 2.1. Apakah harga listing memengaruhi `availability_365`?\n",
    "Sebelum menyelidiki hubungan antara harga dan okupansi, perlu untuk memahami apakah harga suatu listing memengaruhi seberapa sering listing tersebut tersedia sepanjang tahun. `availability_365` adalah metrik yang menunjukkan berapa hari dalam setahun listing tersebut tersedia untuk pemesanan. Sebuah listing dengan harga tinggi mungkin memiliki tingkat pemesanan yang lebih rendah atau bahkan lebih banyak hari yang diblokir oleh host, sementara harga lebih rendah mungkin membuat listing lebih sering tersedia."
   ]
  },
  {
   "cell_type": "code",
   "execution_count": null,
   "id": "416173ab",
   "metadata": {},
   "outputs": [],
   "source": [
    "# Pembagian harga menjadi dua kategori: Low dan High berdasarkan median\n",
    "median_price = df['price'].median()\n",
    "df['price_category'] = df['price'].apply(lambda x: 'Low' if x <= median_price else 'High')"
   ]
  },
  {
   "cell_type": "code",
   "execution_count": null,
   "id": "cf87c181",
   "metadata": {},
   "outputs": [],
   "source": [
    "# Siapkan data untuk t-test (availability_365 untuk harga rendah dan tinggi)\n",
    "low_price = df[df['price_category'] == 'Low']['availability_365']\n",
    "high_price = df[df['price_category'] == 'High']['availability_365']"
   ]
  },
  {
   "cell_type": "code",
   "execution_count": null,
   "id": "d0e11f8d",
   "metadata": {},
   "outputs": [],
   "source": [
    "sns.histplot(low_price)"
   ]
  },
  {
   "cell_type": "code",
   "execution_count": null,
   "id": "73187d5b",
   "metadata": {},
   "outputs": [],
   "source": [
    "# Membagi data harga menjadi dua kategori: Low dan High berdasarkan median\n",
    "median_price = df['price'].median()\n",
    "df['price_category'] = df['price'].apply(lambda x: 'Low' if x <= median_price else 'High')\n",
    "\n",
    "# Menyiapkan data untuk T-test (availability_365 untuk harga rendah dan tinggi)\n",
    "low_price = df[df['price_category'] == 'Low']['availability_365']\n",
    "high_price = df[df['price_category'] == 'High']['availability_365']\n",
    "\n",
    "# Independent t-test untuk perbedaan antara harga rendah dan tinggi dalam hal availability_365\n",
    "t_stat, p_value = stats.ttest_ind(low_price, high_price)\n",
    "\n",
    "# Menampilkan hasil uji t-test\n",
    "print(f\"T-Statistik: {t_stat:.2f}\")\n",
    "print(f\"P-Value: {p_value:.2f}\")\n",
    "\n",
    "# Interpretasi hasil t-test\n",
    "if p_value > 0.05:\n",
    "    print(f'p_value = {p_value:.2f}, Terima H0: Tidak ada perbedaan signifikan antara harga Low dan High.')\n",
    "else:\n",
    "    print(f'p_value = {p_value:.2f}, Terima H1: Ada perbedaan signifikan antara harga Low dan High.')"
   ]
  },
  {
   "cell_type": "markdown",
   "id": "ccb2b0a6",
   "metadata": {},
   "source": [
    "### 2.2 Adakah 'sweet spot' harga dengan okupansi optimal?\n",
    "Banyak host QIrbnb mungkin bertanya-tanya, \"Berapa harga yang sebaiknya saya tetapkan untuk mendapatkan okupansi optimal?\" Dalam analisis ini, akan dicari tahu apakah ada harga tertentu atau yang sering disebut sebagai 'sweet spot' yang menghasilkan tingkat okupansi tertinggi. Indentifikasi ini sangat berguna untuk menentukan harga yang seimbang antara permintaan pasar dan potensi pendapatan."
   ]
  },
  {
   "cell_type": "markdown",
   "id": "ba7c7c55",
   "metadata": {},
   "source": [
    "### 2.3 Bagaimana distribusi `estimated_reveneu` di tiap `price_category`?\n",
    "Selain okupansi, salah satu faktor penting yang perlu dipertimbangkan adalah `estimated_revenue` atau pendapatan yang diperkirakan dari suatu listing berdasarkan harga dan okupansi. Memahami bagaimana pendapatan ini tersebar di berbagai `price_category` dapat memberikan wawasan lebih lanjut tentang seberapa efisien setiap kategori harga dalam menghasilkan pendapatan bagi host."
   ]
  },
  {
   "cell_type": "markdown",
   "id": "be65c87f",
   "metadata": {},
   "source": [
    "### 2.4 Apakah `room_type` memengaruhi hubungan price dan okupansi?\n",
    "`room_type` juga berpotensi memengaruhi bagaimana harga dan okupansi saling berhubungan. Misalnya, harga untuk entire home/apt mungkin lebih tinggi daripada private room, tetapi okupansi untuk tipe kamar yang lebih terjangkau mungkin lebih tinggi. Oleh karena itu, penting untuk mengeksplorasi apakah `room_type` memengaruhi hubungan antara harga dan okupansi, dan apakah ada perbedaan yang signifikan antara tipe kamar dalam hal ini."
   ]
  },
  {
   "cell_type": "markdown",
   "id": "608b5b31",
   "metadata": {},
   "source": [
    "### 2.5 Apakah `profesional_host` lebih sering mengatur harga di segmen premium?\n",
    "Host profesional seringkali memiliki lebih banyak pengalaman dan sumber daya untuk menetapkan harga yang sesuai dengan pasar. Oleh karena itu, perlu diketahui apakah profesional host lebih cenderung untuk menetapkan harga di segmen premium (harga tinggi) dibandingkan dengan single host atau host non profesional. Memahami pervedaan ini bisa memberikan wawasan tentang strategi harga yang ditetapkan oleh profesional."
   ]
  },
  {
   "cell_type": "markdown",
   "id": "81990b5c",
   "metadata": {},
   "source": [
    "## 3. Karakteristik listing populer (number_of_reviews_ltm)"
   ]
  },
  {
   "cell_type": "markdown",
   "id": "bd257de4",
   "metadata": {},
   "source": [
    "### 3.1 Tipe room apa yang paling banyak direview?"
   ]
  },
  {
   "cell_type": "markdown",
   "id": "0432d634",
   "metadata": {},
   "source": [
    "### 3.2 Neighborhood mana yang listingnya paling populer?"
   ]
  },
  {
   "cell_type": "markdown",
   "id": "0dce9f07",
   "metadata": {},
   "source": [
    "### 3.3 Bagaimana hubungan `price_category` dengan jumlah review?"
   ]
  },
  {
   "cell_type": "markdown",
   "id": "2ff3a744",
   "metadata": {},
   "source": [
    "### 3.4 Apakah `host_type` tertentu lebih sering mendapatkan review tinggi?"
   ]
  },
  {
   "cell_type": "markdown",
   "id": "67e07797",
   "metadata": {},
   "source": [
    "### 3.5 Seberapa aktif listing populer diukur dari `review_recency`?"
   ]
  },
  {
   "cell_type": "markdown",
   "id": "f72ff4a1",
   "metadata": {},
   "source": [
    "## 4. Performa host profesional vs non profesional"
   ]
  },
  {
   "cell_type": "markdown",
   "id": "a61f7712",
   "metadata": {},
   "source": [
    "### 4.1 Apakah `professional_host` memiliki availability yang lebih tinggi?"
   ]
  },
  {
   "cell_type": "markdown",
   "id": "d0925ab7",
   "metadata": {},
   "source": [
    "### 4.2 Apakah `estimated_revenue` `professional_host` lebih tinggi dibandingkan `single_host`?"
   ]
  },
  {
   "cell_type": "markdown",
   "id": "992e0161",
   "metadata": {},
   "source": [
    "### 4.3 Bagaimana distribusi `price_category` antara `professional_host` dan `single_host`?"
   ]
  },
  {
   "cell_type": "markdown",
   "id": "d1d0eb2f",
   "metadata": {},
   "source": [
    "### 4.4 Apakah `professional_host` lebih banyak listing di neighborhood premium?"
   ]
  },
  {
   "cell_type": "markdown",
   "id": "84fefd21",
   "metadata": {},
   "source": [
    "### 4.5 Bagaimana performa engagement (reviews) antara `professional_host` dan lainnya?"
   ]
  },
  {
   "cell_type": "markdown",
   "id": "754849ea",
   "metadata": {},
   "source": [
    "- Pengaruh recency reviews terhadap performa listing\n",
    "- Sub-questions:\n",
    "    - Bagaimana ditribusi listing dalam kategori review_recency?\n",
    "    - Apakah listing dengan review terbaru memiliki price lebih tinggi?\n",
    "    - Apakah estimated_occupancy_rate listing aktif lebih tinggi?\n",
    "    - Seberapa besar gap performa revenue antara listing aktif vs pasif?\n",
    "    - Apakah host_type berpengaruh terhadap recency_review?\n",
    "- Kolom Data: review_recency, price, estimated_occupancy_rate, estimated_revenue, host_type"
   ]
  }
 ],
 "metadata": {
  "kernelspec": {
   "display_name": "Python 3",
   "language": "python",
   "name": "python3"
  },
  "language_info": {
   "codemirror_mode": {
    "name": "ipython",
    "version": 3
   },
   "file_extension": ".py",
   "mimetype": "text/x-python",
   "name": "python",
   "nbconvert_exporter": "python",
   "pygments_lexer": "ipython3",
   "version": "3.13.5"
  }
 },
 "nbformat": 4,
 "nbformat_minor": 5
}
