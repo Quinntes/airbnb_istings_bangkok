{
 "cells": [
  {
   "cell_type": "markdown",
   "id": "786b589d",
   "metadata": {},
   "source": [
    "# Capstone Project 2: Analisis Popularitas Listing Airbnb di Bangkok"
   ]
  },
  {
   "cell_type": "markdown",
   "id": "115d373b",
   "metadata": {},
   "source": [
    "## Latar Belakang & Rumusan Masalah"
   ]
  },
  {
   "cell_type": "markdown",
   "id": "17d2465f",
   "metadata": {},
   "source": [
    "### Latar Belakang\n",
    "Airbnb Bangkok memiliki ribuan listing yang dikelola oleh berbagai tipe host, mulai dari individu hingga manajemen properti profesional. Namun, tidak semua listing aktif atau populer di pasar. Perusahaan ingin memahami bagaimana host dapat mengoptimalkan performa listing mereka, khususnya untuk listing yang cenderung \"pasif\" (jarang update/review).\n",
    "\n",
    "### Problem Statement\n",
    "Perusahaan ingin mengidentifikasi faktor-faktor yang mempengaruhi performa listing Airbnb (popularity & revenue potential) agar dapat memberikan strategi optimalisasi kepada host, baik untuk listing aktif maupun pasif.\n",
    "\n",
    "### Pertanyaan Analitis:\n",
    "1. Bagaimana sebaran listing berdasarkan room_type dan neighborhood?\n",
    "2. Bagaimana hubungan antara harga dan tingkat okupansi (availability_365)?\n",
    "3. Apa karakteristik listing dengan ulasan terbanyak (number_of_reviews_ltm)?\n",
    "4. Apakah host profesional (is_professional_host) memiliki listing dengan performa lebih baik?\n",
    "5. Bagaimana pengaruh keterkinian review (review_recency) terhadap performa listing?"
   ]
  },
  {
   "cell_type": "markdown",
   "id": "9a218d85",
   "metadata": {},
   "source": [
    "## Import Library"
   ]
  },
  {
   "cell_type": "code",
   "execution_count": 1,
   "id": "b230d43d",
   "metadata": {},
   "outputs": [],
   "source": [
    "import pandas as pd\n",
    "import numpy as np\n",
    "import matplotlib.pyplot as plt\n",
    "import seaborn as sns\n",
    "\n",
    "import warnings\n",
    "warnings.filterwarnings('ignore')"
   ]
  },
  {
   "cell_type": "markdown",
   "id": "a336ad1d",
   "metadata": {},
   "source": [
    "## Load Dataset"
   ]
  },
  {
   "cell_type": "code",
   "execution_count": 2,
   "id": "5aec4c0b",
   "metadata": {},
   "outputs": [
    {
     "data": {
      "text/html": [
       "<div>\n",
       "<style scoped>\n",
       "    .dataframe tbody tr th:only-of-type {\n",
       "        vertical-align: middle;\n",
       "    }\n",
       "\n",
       "    .dataframe tbody tr th {\n",
       "        vertical-align: top;\n",
       "    }\n",
       "\n",
       "    .dataframe thead th {\n",
       "        text-align: right;\n",
       "    }\n",
       "</style>\n",
       "<table border=\"1\" class=\"dataframe\">\n",
       "  <thead>\n",
       "    <tr style=\"text-align: right;\">\n",
       "      <th></th>\n",
       "      <th>Unnamed: 0</th>\n",
       "      <th>id</th>\n",
       "      <th>name</th>\n",
       "      <th>host_id</th>\n",
       "      <th>host_name</th>\n",
       "      <th>neighbourhood</th>\n",
       "      <th>latitude</th>\n",
       "      <th>longitude</th>\n",
       "      <th>room_type</th>\n",
       "      <th>price</th>\n",
       "      <th>minimum_nights</th>\n",
       "      <th>number_of_reviews</th>\n",
       "      <th>last_review</th>\n",
       "      <th>reviews_per_month</th>\n",
       "      <th>calculated_host_listings_count</th>\n",
       "      <th>availability_365</th>\n",
       "      <th>number_of_reviews_ltm</th>\n",
       "    </tr>\n",
       "  </thead>\n",
       "  <tbody>\n",
       "    <tr>\n",
       "      <th>0</th>\n",
       "      <td>0</td>\n",
       "      <td>27934</td>\n",
       "      <td>Nice room with superb city view</td>\n",
       "      <td>120437</td>\n",
       "      <td>Nuttee</td>\n",
       "      <td>Ratchathewi</td>\n",
       "      <td>13.75983</td>\n",
       "      <td>100.54134</td>\n",
       "      <td>Entire home/apt</td>\n",
       "      <td>1905</td>\n",
       "      <td>3</td>\n",
       "      <td>65</td>\n",
       "      <td>2020-01-06</td>\n",
       "      <td>0.50</td>\n",
       "      <td>2</td>\n",
       "      <td>353</td>\n",
       "      <td>0</td>\n",
       "    </tr>\n",
       "    <tr>\n",
       "      <th>1</th>\n",
       "      <td>1</td>\n",
       "      <td>27979</td>\n",
       "      <td>Easy going landlord,easy place</td>\n",
       "      <td>120541</td>\n",
       "      <td>Emy</td>\n",
       "      <td>Bang Na</td>\n",
       "      <td>13.66818</td>\n",
       "      <td>100.61674</td>\n",
       "      <td>Private room</td>\n",
       "      <td>1316</td>\n",
       "      <td>1</td>\n",
       "      <td>0</td>\n",
       "      <td>NaN</td>\n",
       "      <td>NaN</td>\n",
       "      <td>2</td>\n",
       "      <td>358</td>\n",
       "      <td>0</td>\n",
       "    </tr>\n",
       "    <tr>\n",
       "      <th>2</th>\n",
       "      <td>2</td>\n",
       "      <td>28745</td>\n",
       "      <td>modern-style apartment in Bangkok</td>\n",
       "      <td>123784</td>\n",
       "      <td>Familyroom</td>\n",
       "      <td>Bang Kapi</td>\n",
       "      <td>13.75232</td>\n",
       "      <td>100.62402</td>\n",
       "      <td>Private room</td>\n",
       "      <td>800</td>\n",
       "      <td>60</td>\n",
       "      <td>0</td>\n",
       "      <td>NaN</td>\n",
       "      <td>NaN</td>\n",
       "      <td>1</td>\n",
       "      <td>365</td>\n",
       "      <td>0</td>\n",
       "    </tr>\n",
       "    <tr>\n",
       "      <th>3</th>\n",
       "      <td>3</td>\n",
       "      <td>35780</td>\n",
       "      <td>Spacious one bedroom at The Kris Condo Bldg. 3</td>\n",
       "      <td>153730</td>\n",
       "      <td>Sirilak</td>\n",
       "      <td>Din Daeng</td>\n",
       "      <td>13.78823</td>\n",
       "      <td>100.57256</td>\n",
       "      <td>Private room</td>\n",
       "      <td>1286</td>\n",
       "      <td>7</td>\n",
       "      <td>2</td>\n",
       "      <td>2022-04-01</td>\n",
       "      <td>0.03</td>\n",
       "      <td>1</td>\n",
       "      <td>323</td>\n",
       "      <td>1</td>\n",
       "    </tr>\n",
       "    <tr>\n",
       "      <th>4</th>\n",
       "      <td>4</td>\n",
       "      <td>941865</td>\n",
       "      <td>Suite Room 3 at MetroPoint</td>\n",
       "      <td>610315</td>\n",
       "      <td>Kasem</td>\n",
       "      <td>Bang Kapi</td>\n",
       "      <td>13.76872</td>\n",
       "      <td>100.63338</td>\n",
       "      <td>Private room</td>\n",
       "      <td>1905</td>\n",
       "      <td>1</td>\n",
       "      <td>0</td>\n",
       "      <td>NaN</td>\n",
       "      <td>NaN</td>\n",
       "      <td>3</td>\n",
       "      <td>365</td>\n",
       "      <td>0</td>\n",
       "    </tr>\n",
       "  </tbody>\n",
       "</table>\n",
       "</div>"
      ],
      "text/plain": [
       "   Unnamed: 0      id                                            name  \\\n",
       "0           0   27934                 Nice room with superb city view   \n",
       "1           1   27979                  Easy going landlord,easy place   \n",
       "2           2   28745               modern-style apartment in Bangkok   \n",
       "3           3   35780  Spacious one bedroom at The Kris Condo Bldg. 3   \n",
       "4           4  941865                      Suite Room 3 at MetroPoint   \n",
       "\n",
       "   host_id   host_name neighbourhood  latitude  longitude        room_type  \\\n",
       "0   120437      Nuttee   Ratchathewi  13.75983  100.54134  Entire home/apt   \n",
       "1   120541         Emy       Bang Na  13.66818  100.61674     Private room   \n",
       "2   123784  Familyroom     Bang Kapi  13.75232  100.62402     Private room   \n",
       "3   153730     Sirilak     Din Daeng  13.78823  100.57256     Private room   \n",
       "4   610315       Kasem     Bang Kapi  13.76872  100.63338     Private room   \n",
       "\n",
       "   price  minimum_nights  number_of_reviews last_review  reviews_per_month  \\\n",
       "0   1905               3                 65  2020-01-06               0.50   \n",
       "1   1316               1                  0         NaN                NaN   \n",
       "2    800              60                  0         NaN                NaN   \n",
       "3   1286               7                  2  2022-04-01               0.03   \n",
       "4   1905               1                  0         NaN                NaN   \n",
       "\n",
       "   calculated_host_listings_count  availability_365  number_of_reviews_ltm  \n",
       "0                               2               353                      0  \n",
       "1                               2               358                      0  \n",
       "2                               1               365                      0  \n",
       "3                               1               323                      1  \n",
       "4                               3               365                      0  "
      ]
     },
     "execution_count": 2,
     "metadata": {},
     "output_type": "execute_result"
    }
   ],
   "source": [
    "# Load dataset Airbnb Listings Bangkok\n",
    "url = 'https://raw.githubusercontent.com/Quinntes/airbnb_listings_bangkok/refs/heads/main/Airbnb%20Listings%20Bangkok.csv'\n",
    "df_raw = pd.read_csv(url)\n",
    "\n",
    "# Tampilkan 5 baris pertama\n",
    "df_raw.head()"
   ]
  },
  {
   "cell_type": "code",
   "execution_count": 3,
   "id": "e601edbe",
   "metadata": {},
   "outputs": [],
   "source": [
    "# Backup Raw Dataset\n",
    "df_copy = df_raw.copy()"
   ]
  },
  {
   "cell_type": "markdown",
   "id": "a351d307",
   "metadata": {},
   "source": [
    "#### Backup Raw Dataset\n",
    "\n",
    "Sebelum melakukan proses data cleaning, penting untuk membuat salinan (*backup*) dari dataset asli.\n",
    "Hal ini bertujuan untuk:\n",
    "- Mencegah kehilangan data original jika terjadi kesalahan saat proses cleaning.\n",
    "- Memungkinkan kita membandingkan dataset yang sudah dibersihkan dengan data mentah aslinya.\n",
    "- Memberi fleksibilitas untuk rollback ke data awal tanpa perlu me-load ulang file CSV.\n",
    "\n",
    "Langkah ini hanya akan membuat duplikat DataFrame di memori Python (tidak membuat file baru)."
   ]
  },
  {
   "cell_type": "markdown",
   "id": "c896529a",
   "metadata": {},
   "source": [
    "## Data Overview\n",
    "Melihat dimensi data, tipe data kolom, dan mengecek apakah ada missing values."
   ]
  },
  {
   "cell_type": "code",
   "execution_count": 4,
   "id": "d9c7f78e",
   "metadata": {},
   "outputs": [
    {
     "name": "stdout",
     "output_type": "stream",
     "text": [
      "Jumlah baris: 15854, Jumlah kolom: 17\n",
      "<class 'pandas.core.frame.DataFrame'>\n",
      "RangeIndex: 15854 entries, 0 to 15853\n",
      "Data columns (total 17 columns):\n",
      " #   Column                          Non-Null Count  Dtype  \n",
      "---  ------                          --------------  -----  \n",
      " 0   Unnamed: 0                      15854 non-null  int64  \n",
      " 1   id                              15854 non-null  int64  \n",
      " 2   name                            15846 non-null  object \n",
      " 3   host_id                         15854 non-null  int64  \n",
      " 4   host_name                       15853 non-null  object \n",
      " 5   neighbourhood                   15854 non-null  object \n",
      " 6   latitude                        15854 non-null  float64\n",
      " 7   longitude                       15854 non-null  float64\n",
      " 8   room_type                       15854 non-null  object \n",
      " 9   price                           15854 non-null  int64  \n",
      " 10  minimum_nights                  15854 non-null  int64  \n",
      " 11  number_of_reviews               15854 non-null  int64  \n",
      " 12  last_review                     10064 non-null  object \n",
      " 13  reviews_per_month               10064 non-null  float64\n",
      " 14  calculated_host_listings_count  15854 non-null  int64  \n",
      " 15  availability_365                15854 non-null  int64  \n",
      " 16  number_of_reviews_ltm           15854 non-null  int64  \n",
      "dtypes: float64(3), int64(9), object(5)\n",
      "memory usage: 2.1+ MB\n"
     ]
    },
    {
     "data": {
      "text/html": [
       "<div>\n",
       "<style scoped>\n",
       "    .dataframe tbody tr th:only-of-type {\n",
       "        vertical-align: middle;\n",
       "    }\n",
       "\n",
       "    .dataframe tbody tr th {\n",
       "        vertical-align: top;\n",
       "    }\n",
       "\n",
       "    .dataframe thead th {\n",
       "        text-align: right;\n",
       "    }\n",
       "</style>\n",
       "<table border=\"1\" class=\"dataframe\">\n",
       "  <thead>\n",
       "    <tr style=\"text-align: right;\">\n",
       "      <th></th>\n",
       "      <th>Unnamed: 0</th>\n",
       "      <th>id</th>\n",
       "      <th>name</th>\n",
       "      <th>host_id</th>\n",
       "      <th>host_name</th>\n",
       "      <th>neighbourhood</th>\n",
       "      <th>latitude</th>\n",
       "      <th>longitude</th>\n",
       "      <th>room_type</th>\n",
       "      <th>price</th>\n",
       "      <th>minimum_nights</th>\n",
       "      <th>number_of_reviews</th>\n",
       "      <th>last_review</th>\n",
       "      <th>reviews_per_month</th>\n",
       "      <th>calculated_host_listings_count</th>\n",
       "      <th>availability_365</th>\n",
       "      <th>number_of_reviews_ltm</th>\n",
       "    </tr>\n",
       "  </thead>\n",
       "  <tbody>\n",
       "    <tr>\n",
       "      <th>count</th>\n",
       "      <td>15854.000000</td>\n",
       "      <td>1.585400e+04</td>\n",
       "      <td>15846</td>\n",
       "      <td>1.585400e+04</td>\n",
       "      <td>15853</td>\n",
       "      <td>15854</td>\n",
       "      <td>15854.000000</td>\n",
       "      <td>15854.000000</td>\n",
       "      <td>15854</td>\n",
       "      <td>1.585400e+04</td>\n",
       "      <td>15854.000000</td>\n",
       "      <td>15854.000000</td>\n",
       "      <td>10064</td>\n",
       "      <td>10064.000000</td>\n",
       "      <td>15854.000000</td>\n",
       "      <td>15854.000000</td>\n",
       "      <td>15854.000000</td>\n",
       "    </tr>\n",
       "    <tr>\n",
       "      <th>unique</th>\n",
       "      <td>NaN</td>\n",
       "      <td>NaN</td>\n",
       "      <td>14794</td>\n",
       "      <td>NaN</td>\n",
       "      <td>5312</td>\n",
       "      <td>50</td>\n",
       "      <td>NaN</td>\n",
       "      <td>NaN</td>\n",
       "      <td>4</td>\n",
       "      <td>NaN</td>\n",
       "      <td>NaN</td>\n",
       "      <td>NaN</td>\n",
       "      <td>1669</td>\n",
       "      <td>NaN</td>\n",
       "      <td>NaN</td>\n",
       "      <td>NaN</td>\n",
       "      <td>NaN</td>\n",
       "    </tr>\n",
       "    <tr>\n",
       "      <th>top</th>\n",
       "      <td>NaN</td>\n",
       "      <td>NaN</td>\n",
       "      <td>New!  La Chada Night Market studio 2PPL near MRT</td>\n",
       "      <td>NaN</td>\n",
       "      <td>Curry</td>\n",
       "      <td>Vadhana</td>\n",
       "      <td>NaN</td>\n",
       "      <td>NaN</td>\n",
       "      <td>Entire home/apt</td>\n",
       "      <td>NaN</td>\n",
       "      <td>NaN</td>\n",
       "      <td>NaN</td>\n",
       "      <td>2022-12-11</td>\n",
       "      <td>NaN</td>\n",
       "      <td>NaN</td>\n",
       "      <td>NaN</td>\n",
       "      <td>NaN</td>\n",
       "    </tr>\n",
       "    <tr>\n",
       "      <th>freq</th>\n",
       "      <td>NaN</td>\n",
       "      <td>NaN</td>\n",
       "      <td>45</td>\n",
       "      <td>NaN</td>\n",
       "      <td>228</td>\n",
       "      <td>2153</td>\n",
       "      <td>NaN</td>\n",
       "      <td>NaN</td>\n",
       "      <td>8912</td>\n",
       "      <td>NaN</td>\n",
       "      <td>NaN</td>\n",
       "      <td>NaN</td>\n",
       "      <td>189</td>\n",
       "      <td>NaN</td>\n",
       "      <td>NaN</td>\n",
       "      <td>NaN</td>\n",
       "      <td>NaN</td>\n",
       "    </tr>\n",
       "    <tr>\n",
       "      <th>mean</th>\n",
       "      <td>7926.500000</td>\n",
       "      <td>1.579397e+17</td>\n",
       "      <td>NaN</td>\n",
       "      <td>1.541058e+08</td>\n",
       "      <td>NaN</td>\n",
       "      <td>NaN</td>\n",
       "      <td>13.745144</td>\n",
       "      <td>100.559903</td>\n",
       "      <td>NaN</td>\n",
       "      <td>3.217704e+03</td>\n",
       "      <td>15.292355</td>\n",
       "      <td>16.654157</td>\n",
       "      <td>NaN</td>\n",
       "      <td>0.813145</td>\n",
       "      <td>13.889618</td>\n",
       "      <td>244.378643</td>\n",
       "      <td>3.481519</td>\n",
       "    </tr>\n",
       "    <tr>\n",
       "      <th>std</th>\n",
       "      <td>4576.799919</td>\n",
       "      <td>2.946015e+17</td>\n",
       "      <td>NaN</td>\n",
       "      <td>1.318726e+08</td>\n",
       "      <td>NaN</td>\n",
       "      <td>NaN</td>\n",
       "      <td>0.043040</td>\n",
       "      <td>0.050911</td>\n",
       "      <td>NaN</td>\n",
       "      <td>2.497212e+04</td>\n",
       "      <td>50.815020</td>\n",
       "      <td>40.613331</td>\n",
       "      <td>NaN</td>\n",
       "      <td>1.090196</td>\n",
       "      <td>30.269848</td>\n",
       "      <td>125.843224</td>\n",
       "      <td>8.916937</td>\n",
       "    </tr>\n",
       "    <tr>\n",
       "      <th>min</th>\n",
       "      <td>0.000000</td>\n",
       "      <td>2.793400e+04</td>\n",
       "      <td>NaN</td>\n",
       "      <td>5.892000e+04</td>\n",
       "      <td>NaN</td>\n",
       "      <td>NaN</td>\n",
       "      <td>13.527300</td>\n",
       "      <td>100.329550</td>\n",
       "      <td>NaN</td>\n",
       "      <td>0.000000e+00</td>\n",
       "      <td>1.000000</td>\n",
       "      <td>0.000000</td>\n",
       "      <td>NaN</td>\n",
       "      <td>0.010000</td>\n",
       "      <td>1.000000</td>\n",
       "      <td>0.000000</td>\n",
       "      <td>0.000000</td>\n",
       "    </tr>\n",
       "    <tr>\n",
       "      <th>25%</th>\n",
       "      <td>3963.250000</td>\n",
       "      <td>2.104509e+07</td>\n",
       "      <td>NaN</td>\n",
       "      <td>3.974431e+07</td>\n",
       "      <td>NaN</td>\n",
       "      <td>NaN</td>\n",
       "      <td>13.720090</td>\n",
       "      <td>100.529690</td>\n",
       "      <td>NaN</td>\n",
       "      <td>9.000000e+02</td>\n",
       "      <td>1.000000</td>\n",
       "      <td>0.000000</td>\n",
       "      <td>NaN</td>\n",
       "      <td>0.120000</td>\n",
       "      <td>1.000000</td>\n",
       "      <td>138.000000</td>\n",
       "      <td>0.000000</td>\n",
       "    </tr>\n",
       "    <tr>\n",
       "      <th>50%</th>\n",
       "      <td>7926.500000</td>\n",
       "      <td>3.503734e+07</td>\n",
       "      <td>NaN</td>\n",
       "      <td>1.224556e+08</td>\n",
       "      <td>NaN</td>\n",
       "      <td>NaN</td>\n",
       "      <td>13.738490</td>\n",
       "      <td>100.561415</td>\n",
       "      <td>NaN</td>\n",
       "      <td>1.429000e+03</td>\n",
       "      <td>1.000000</td>\n",
       "      <td>2.000000</td>\n",
       "      <td>NaN</td>\n",
       "      <td>0.435000</td>\n",
       "      <td>4.000000</td>\n",
       "      <td>309.000000</td>\n",
       "      <td>0.000000</td>\n",
       "    </tr>\n",
       "    <tr>\n",
       "      <th>75%</th>\n",
       "      <td>11889.750000</td>\n",
       "      <td>5.256154e+07</td>\n",
       "      <td>NaN</td>\n",
       "      <td>2.390547e+08</td>\n",
       "      <td>NaN</td>\n",
       "      <td>NaN</td>\n",
       "      <td>13.759497</td>\n",
       "      <td>100.585150</td>\n",
       "      <td>NaN</td>\n",
       "      <td>2.429000e+03</td>\n",
       "      <td>7.000000</td>\n",
       "      <td>13.000000</td>\n",
       "      <td>NaN</td>\n",
       "      <td>1.060000</td>\n",
       "      <td>13.000000</td>\n",
       "      <td>360.000000</td>\n",
       "      <td>3.000000</td>\n",
       "    </tr>\n",
       "    <tr>\n",
       "      <th>max</th>\n",
       "      <td>15853.000000</td>\n",
       "      <td>7.908162e+17</td>\n",
       "      <td>NaN</td>\n",
       "      <td>4.926659e+08</td>\n",
       "      <td>NaN</td>\n",
       "      <td>NaN</td>\n",
       "      <td>13.953540</td>\n",
       "      <td>100.923440</td>\n",
       "      <td>NaN</td>\n",
       "      <td>1.100000e+06</td>\n",
       "      <td>1125.000000</td>\n",
       "      <td>1224.000000</td>\n",
       "      <td>NaN</td>\n",
       "      <td>19.130000</td>\n",
       "      <td>228.000000</td>\n",
       "      <td>365.000000</td>\n",
       "      <td>325.000000</td>\n",
       "    </tr>\n",
       "  </tbody>\n",
       "</table>\n",
       "</div>"
      ],
      "text/plain": [
       "          Unnamed: 0            id  \\\n",
       "count   15854.000000  1.585400e+04   \n",
       "unique           NaN           NaN   \n",
       "top              NaN           NaN   \n",
       "freq             NaN           NaN   \n",
       "mean     7926.500000  1.579397e+17   \n",
       "std      4576.799919  2.946015e+17   \n",
       "min         0.000000  2.793400e+04   \n",
       "25%      3963.250000  2.104509e+07   \n",
       "50%      7926.500000  3.503734e+07   \n",
       "75%     11889.750000  5.256154e+07   \n",
       "max     15853.000000  7.908162e+17   \n",
       "\n",
       "                                                    name       host_id  \\\n",
       "count                                              15846  1.585400e+04   \n",
       "unique                                             14794           NaN   \n",
       "top     New!  La Chada Night Market studio 2PPL near MRT           NaN   \n",
       "freq                                                  45           NaN   \n",
       "mean                                                 NaN  1.541058e+08   \n",
       "std                                                  NaN  1.318726e+08   \n",
       "min                                                  NaN  5.892000e+04   \n",
       "25%                                                  NaN  3.974431e+07   \n",
       "50%                                                  NaN  1.224556e+08   \n",
       "75%                                                  NaN  2.390547e+08   \n",
       "max                                                  NaN  4.926659e+08   \n",
       "\n",
       "       host_name neighbourhood      latitude     longitude        room_type  \\\n",
       "count      15853         15854  15854.000000  15854.000000            15854   \n",
       "unique      5312            50           NaN           NaN                4   \n",
       "top        Curry       Vadhana           NaN           NaN  Entire home/apt   \n",
       "freq         228          2153           NaN           NaN             8912   \n",
       "mean         NaN           NaN     13.745144    100.559903              NaN   \n",
       "std          NaN           NaN      0.043040      0.050911              NaN   \n",
       "min          NaN           NaN     13.527300    100.329550              NaN   \n",
       "25%          NaN           NaN     13.720090    100.529690              NaN   \n",
       "50%          NaN           NaN     13.738490    100.561415              NaN   \n",
       "75%          NaN           NaN     13.759497    100.585150              NaN   \n",
       "max          NaN           NaN     13.953540    100.923440              NaN   \n",
       "\n",
       "               price  minimum_nights  number_of_reviews last_review  \\\n",
       "count   1.585400e+04    15854.000000       15854.000000       10064   \n",
       "unique           NaN             NaN                NaN        1669   \n",
       "top              NaN             NaN                NaN  2022-12-11   \n",
       "freq             NaN             NaN                NaN         189   \n",
       "mean    3.217704e+03       15.292355          16.654157         NaN   \n",
       "std     2.497212e+04       50.815020          40.613331         NaN   \n",
       "min     0.000000e+00        1.000000           0.000000         NaN   \n",
       "25%     9.000000e+02        1.000000           0.000000         NaN   \n",
       "50%     1.429000e+03        1.000000           2.000000         NaN   \n",
       "75%     2.429000e+03        7.000000          13.000000         NaN   \n",
       "max     1.100000e+06     1125.000000        1224.000000         NaN   \n",
       "\n",
       "        reviews_per_month  calculated_host_listings_count  availability_365  \\\n",
       "count        10064.000000                    15854.000000      15854.000000   \n",
       "unique                NaN                             NaN               NaN   \n",
       "top                   NaN                             NaN               NaN   \n",
       "freq                  NaN                             NaN               NaN   \n",
       "mean             0.813145                       13.889618        244.378643   \n",
       "std              1.090196                       30.269848        125.843224   \n",
       "min              0.010000                        1.000000          0.000000   \n",
       "25%              0.120000                        1.000000        138.000000   \n",
       "50%              0.435000                        4.000000        309.000000   \n",
       "75%              1.060000                       13.000000        360.000000   \n",
       "max             19.130000                      228.000000        365.000000   \n",
       "\n",
       "        number_of_reviews_ltm  \n",
       "count            15854.000000  \n",
       "unique                    NaN  \n",
       "top                       NaN  \n",
       "freq                      NaN  \n",
       "mean                 3.481519  \n",
       "std                  8.916937  \n",
       "min                  0.000000  \n",
       "25%                  0.000000  \n",
       "50%                  0.000000  \n",
       "75%                  3.000000  \n",
       "max                325.000000  "
      ]
     },
     "execution_count": 4,
     "metadata": {},
     "output_type": "execute_result"
    }
   ],
   "source": [
    "# Cek dimensi data\n",
    "print(f\"Jumlah baris: {df_copy.shape[0]}, Jumlah kolom: {df_copy.shape[1]}\")\n",
    "\n",
    "# Tipe data & missing values summary\n",
    "df_copy.info()\n",
    "\n",
    "# Statistik deskriptif semua tipe data\n",
    "df_copy.describe(include='all')"
   ]
  },
  {
   "cell_type": "markdown",
   "id": "51796ee8",
   "metadata": {},
   "source": [
    "### Keterangan Kolom Dataset\n",
    "| Nama Kolom                         | Deskripsi                                                                 |\n",
    "|------------------------------------|---------------------------------------------------------------------------|\n",
    "| Unnamed: 0                         | Index otomatis dari file CSV (bisa diabaikan/dihapus).                    |\n",
    "| id                                 | ID unik untuk setiap listing.                                             |\n",
    "| name                               | Nama listing Airbnb.                                                      |\n",
    "| host_id                            | ID unik pemilik (host).                                                   |\n",
    "| host_name                          | Nama pemilik listing.                                                     |\n",
    "| neighbourhood                      | Lokasi/area geografis listing.                                            |\n",
    "| latitude                           | Koordinat latitude listing.                                               |\n",
    "| longitude                          | Koordinat longitude listing.                                              |\n",
    "| room_type                          | Jenis ruang (Entire home/apt, Private room, Shared room, Hotel).          |\n",
    "| price                              | Harga per malam.                                                          |\n",
    "| minimum_nights                     | Jumlah malam minimum untuk menginap.                                       |\n",
    "| number_of_reviews                  | Total jumlah ulasan yang dimiliki listing.                                |\n",
    "| last_review                        | Tanggal ulasan terakhir.                                                  |\n",
    "| reviews_per_month                  | Rata-rata ulasan per bulan.                                               |\n",
    "| calculated_host_listings_count     | Jumlah listing yang dimiliki host di area tersebut.                       |\n",
    "| availability_365                   | Jumlah hari listing tersedia dalam setahun (maks 365).                    |\n",
    "| number_of_reviews_ltm              | Jumlah ulasan dalam 12 bulan terakhir."
   ]
  },
  {
   "cell_type": "code",
   "execution_count": 5,
   "id": "401e484e",
   "metadata": {},
   "outputs": [
    {
     "data": {
      "text/plain": [
       "room_type\n",
       "Entire home/apt    8912\n",
       "Private room       5770\n",
       "Hotel room          649\n",
       "Shared room         523\n",
       "Name: count, dtype: int64"
      ]
     },
     "execution_count": 5,
     "metadata": {},
     "output_type": "execute_result"
    }
   ],
   "source": [
    "df_copy['room_type'].value_counts()"
   ]
  },
  {
   "cell_type": "code",
   "execution_count": 6,
   "id": "9ed7cc5e",
   "metadata": {},
   "outputs": [
    {
     "data": {
      "text/plain": [
       "neighbourhood\n",
       "Vadhana         2153\n",
       "Khlong Toei     2097\n",
       "Huai Khwang     1125\n",
       "Ratchathewi     1114\n",
       "Bang Rak         827\n",
       "Sathon           809\n",
       "Phra Nakhon      619\n",
       "Phra Khanong     558\n",
       "Chatu Chak       548\n",
       "Bang Na          458\n",
       "Name: count, dtype: int64"
      ]
     },
     "execution_count": 6,
     "metadata": {},
     "output_type": "execute_result"
    }
   ],
   "source": [
    "df_copy['neighbourhood'].value_counts().head(10)"
   ]
  },
  {
   "cell_type": "markdown",
   "id": "6217b410",
   "metadata": {},
   "source": [
    "### Checklist Decision Data Overview"
   ]
  },
  {
   "cell_type": "code",
   "execution_count": 7,
   "id": "c81ccc1a",
   "metadata": {},
   "outputs": [],
   "source": [
    "df_copy.drop(columns=['Unnamed: 0'], inplace=True)"
   ]
  },
  {
   "cell_type": "markdown",
   "id": "b26df9b0",
   "metadata": {},
   "source": [
    "#### Drop Kolom `Unnamed: 0`\n",
    "Kolom ini merupakan index otomatis dari file CSV saat proses export, sehingga tidak memiliki nilai informasi yang relevan dengan analisis bisnis. Maka dari itu, kolom ini dihapus untuk menjaga kebersihan dataset."
   ]
  },
  {
   "cell_type": "markdown",
   "id": "ff544292",
   "metadata": {},
   "source": [
    "## Missing Values Check\n",
    "Cek kolom mana yang memiliki missing values."
   ]
  },
  {
   "cell_type": "code",
   "execution_count": 8,
   "id": "1b44396e",
   "metadata": {},
   "outputs": [
    {
     "data": {
      "text/plain": [
       "id                                 0.000000\n",
       "name                               0.050460\n",
       "host_id                            0.000000\n",
       "host_name                          0.006308\n",
       "neighbourhood                      0.000000\n",
       "latitude                           0.000000\n",
       "longitude                          0.000000\n",
       "room_type                          0.000000\n",
       "price                              0.000000\n",
       "minimum_nights                     0.000000\n",
       "number_of_reviews                  0.000000\n",
       "last_review                       36.520752\n",
       "reviews_per_month                 36.520752\n",
       "calculated_host_listings_count     0.000000\n",
       "availability_365                   0.000000\n",
       "number_of_reviews_ltm              0.000000\n",
       "dtype: float64"
      ]
     },
     "execution_count": 8,
     "metadata": {},
     "output_type": "execute_result"
    }
   ],
   "source": [
    "# Jumlah missing values per kolom\n",
    "df_copy.isnull().sum()\n",
    "\n",
    "# Persentase missing values per kolom\n",
    "(df_copy.isnull().sum() / df_copy.shape[0]) * 100"
   ]
  },
  {
   "cell_type": "markdown",
   "id": "b6a285fc",
   "metadata": {},
   "source": [
    "### Checklist Decision Missing Values"
   ]
  },
  {
   "cell_type": "code",
   "execution_count": 9,
   "id": "21fd35ef",
   "metadata": {},
   "outputs": [],
   "source": [
    "df_copy['name'].fillna('No Name', inplace=True)"
   ]
  },
  {
   "cell_type": "code",
   "execution_count": 10,
   "id": "43aef5d0",
   "metadata": {},
   "outputs": [],
   "source": [
    "df_copy['host_name'].fillna('Unknown', inplace=True)"
   ]
  },
  {
   "cell_type": "markdown",
   "id": "94b1e337",
   "metadata": {},
   "source": [
    "#### Handling Missing Values: `name` & `host_name`\n",
    "\n",
    "- Kolom `name` dan `host_name` memiliki missing values masing-masing sebesar 0.05% dan 0.006% dari total data.\n",
    "- Kolom ini **tidak digunakan dalam analisis numerik atau segmentasi**, karena:\n",
    "  - `name`: Hanya sebagai label deskriptif listing.\n",
    "  - `host_name`: Tidak relevan karena menganalisis host berdasarkan **jumlah listing yang dimiliki (host_type)**, bukan nama perorangan.\n",
    "- Namun, untuk menjaga konsistensi data (terutama saat menampilkan dataframe di visualisasi), missing values ini diisi dengan placeholder:\n",
    "  - `name` → 'No Name'\n",
    "  - `host_name` → 'Unknown'\n",
    "- Hal ini mencegah visualisasi atau eksplorasi data terganggu oleh nilai NaN yang sebenarnya **tidak mempengaruhi insight bisnis yang ingin disampaikan kepada investor**."
   ]
  },
  {
   "cell_type": "code",
   "execution_count": 11,
   "id": "8ed3d5d4",
   "metadata": {},
   "outputs": [],
   "source": [
    "df_copy['has_review'] = df_copy['last_review'].notnull().astype(int)\n",
    "df_copy['days_since_last_review'] = (pd.Timestamp('today') - pd.to_datetime(df_copy['last_review'], errors='coerce')).dt.days"
   ]
  },
  {
   "cell_type": "markdown",
   "id": "9205b771",
   "metadata": {},
   "source": [
    "#### Handling Missing Values: `last_review` & `reviews_per_month`\n",
    "\n",
    "- Kolom `last_review` dan `reviews_per_month` memiliki missing values sebesar 36.5%.\n",
    "- Setelah dianalisis, missing values di dua kolom ini terjadi karena:\n",
    "  - Listing tersebut **belum pernah mendapatkan review**.\n",
    "- Imputasi nilai seperti median atau modus **tidak tepat** karena tidak mencerminkan kondisi aktual.\n",
    "- Maka, sebagai solusi:\n",
    "  - Dibuat fitur baru `has_review` (binary flag 1/0) untuk menunjukkan apakah listing tersebut memiliki review atau tidak.\n",
    "  - Kolom `days_since_last_review` dihitung untuk listing yang memiliki review, sedangkan missing dibiarkan agar bisa dianalisis sebagai variabel \"tidak aktif\".\n",
    "- Pendekatan ini lebih relevan bagi investor karena mereka bisa dengan mudah mengidentifikasi listing mana yang:\n",
    "  - Sudah mulai kehilangan daya tarik (tidak ada review baru).\n",
    "  - Masih aktif diminati pelanggan."
   ]
  },
  {
   "cell_type": "markdown",
   "id": "44629187",
   "metadata": {},
   "source": [
    "## Duplicate Check\n",
    "Cek apakah ada baris duplikat di dataset."
   ]
  },
  {
   "cell_type": "markdown",
   "id": "cccff8c2",
   "metadata": {},
   "source": [
    "### Checklist Decision Duplicate"
   ]
  },
  {
   "cell_type": "code",
   "execution_count": 12,
   "id": "23d06886",
   "metadata": {},
   "outputs": [
    {
     "data": {
      "text/plain": [
       "np.int64(0)"
      ]
     },
     "execution_count": 12,
     "metadata": {},
     "output_type": "execute_result"
    }
   ],
   "source": [
    "# Cek duplicate rows\n",
    "df_copy.duplicated().sum()"
   ]
  },
  {
   "cell_type": "markdown",
   "id": "2506fb40",
   "metadata": {},
   "source": [
    "#### Duplicate Row Check\n",
    "\n",
    "- Hasil pemeriksaan menunjukkan **tidak ada baris duplikat identik** di dataset.\n",
    "- Ini menunjukkan bahwa data sudah unik secara listing ID.\n",
    "- Namun, pengecekan duplikat tetap wajib dilakukan sebagai langkah validasi awal untuk memastikan **tidak ada data error yang akan memengaruhi akurasi analisis dan rekomendasi kepada investor.**"
   ]
  },
  {
   "cell_type": "markdown",
   "id": "789df2c5",
   "metadata": {},
   "source": [
    "## Data Type Correction\n",
    "Pastikan kolom numerik dan tanggal bertipe data yang benar."
   ]
  },
  {
   "cell_type": "markdown",
   "id": "df289a1b",
   "metadata": {},
   "source": [
    "### Checklist Decision Data Type"
   ]
  },
  {
   "cell_type": "code",
   "execution_count": 13,
   "id": "c36c135b",
   "metadata": {},
   "outputs": [],
   "source": [
    "# Kolom price: hapus simbol $ (jika ada) dan ubah ke numerik\n",
    "df_copy['price'] = df_copy['price'].astype(float)\n",
    "\n",
    "# Konversi kolom tanggal\n",
    "df_copy['last_review'] = pd.to_datetime(df_copy['last_review'], errors='coerce')"
   ]
  },
  {
   "cell_type": "markdown",
   "id": "5bbee4e7",
   "metadata": {},
   "source": [
    "#### Data Type Correction: Kolom `price`& `last_review`\n",
    "\n",
    "- Kolom `price` sudah bertipe numerik (int64) dari awal.\n",
    "- Untuk menjaga konsistensi precision saat perhitungan estimasi revenue (yang mungkin melibatkan pembagian), kolom ini diubah menjadi tipe data float.\n",
    "- Hal ini memastikan seluruh perhitungan harga (mean, median, korelasi) dapat diproses secara akurat tanpa error parsing di tahap analisis selanjutnya.\n",
    "- Kolom `last_review` diubah dari object ke datetime agar bisa digunakan dalam perhitungan durasi dan analisis tren waktu."
   ]
  },
  {
   "cell_type": "code",
   "execution_count": 14,
   "id": "ae201f95",
   "metadata": {},
   "outputs": [],
   "source": [
    "df_copy['room_type'] = df_copy['room_type'].str.strip()\n",
    "df_copy['neighbourhood'] = df_copy['neighbourhood'].str.strip()\n",
    "df_copy['host_name'] = df_copy['host_name'].str.strip()"
   ]
  },
  {
   "cell_type": "markdown",
   "id": "59ac3081",
   "metadata": {},
   "source": [
    "#### Whitespace Trimming\n",
    "Trim whitespace pada kolom kategorikal agar tidak terjadi error grouping saat aggregasi atau visualisasi.\n",
    "Meski data terlihat bersih, langkah ini tetap dijalankan sebagai langkah pencegahan."
   ]
  },
  {
   "cell_type": "markdown",
   "id": "ded5601d",
   "metadata": {},
   "source": [
    "## Outlier Detection\n",
    "Deteksi outlier pada kolom numerik."
   ]
  },
  {
   "cell_type": "code",
   "execution_count": 15,
   "id": "c951bf72",
   "metadata": {},
   "outputs": [
    {
     "data": {
      "image/png": "[encoded data removed]",
      "text/plain": [
       "<Figure size 1000x500 with 1 Axes>"
      ]
     },
     "metadata": {},
     "output_type": "display_data"
    },
    {
     "data": {
      "text/plain": [
       "count    1.585400e+04\n",
       "mean     3.217704e+03\n",
       "std      2.497212e+04\n",
       "min      0.000000e+00\n",
       "25%      9.000000e+02\n",
       "50%      1.429000e+03\n",
       "75%      2.429000e+03\n",
       "max      1.100000e+06\n",
       "Name: price, dtype: float64"
      ]
     },
     "execution_count": 15,
     "metadata": {},
     "output_type": "execute_result"
    }
   ],
   "source": [
    "# Boxplot kolom price u/ mendeteksi sebarannya\n",
    "plt.figure(figsize=(10,5))\n",
    "sns.boxplot(x=df_copy['price'])\n",
    "plt.title('Sebaran Harga Listings Airbnb di Bangkok')\n",
    "plt.show()\n",
    "\n",
    "# Cek statistik price\n",
    "df_copy['price'].describe()"
   ]
  },
  {
   "cell_type": "markdown",
   "id": "1957b8ae",
   "metadata": {},
   "source": [
    "**Insight:**\n",
    "- Data right skewed\n",
    "- Mayoritas listing terkonsentrasi di rentang harga yang sangat rendah, terlihat dari boxplot yang padat di sisi kiri grafik.\n",
    "- Terdapat listing dengan harga yang jauh lebih tinggi daripada kebanyakan listing lain, membentuk outlier yang terletak jauh di sisi kanan grafik.\n",
    "- Variasi harga yang luas ini mengindikasikan adanya segmentasi pasar."
   ]
  },
  {
   "cell_type": "code",
   "execution_count": 16,
   "id": "f36f574a",
   "metadata": {},
   "outputs": [
    {
     "name": "stdout",
     "output_type": "stream",
     "text": [
      "Jumlah listing dengan harga 0: 1\n",
      "Jumlah listing dengan harga < 500: 753\n"
     ]
    }
   ],
   "source": [
    "# Cek sebaran harga\n",
    "print(f\"Jumlah listing dengan harga 0: {df_copy[df_copy['price'] == 0].shape[0]}\")\n",
    "print(f\"Jumlah listing dengan harga < 500: {df_copy[df_copy['price'] < 500].shape[0]}\")"
   ]
  },
  {
   "cell_type": "markdown",
   "id": "81166cdf",
   "metadata": {},
   "source": [
    "### Checklist Decision Outlier"
   ]
  },
  {
   "cell_type": "code",
   "execution_count": 17,
   "id": "e0a00b7e",
   "metadata": {},
   "outputs": [],
   "source": [
    "df_copy = df_copy[df_copy['price'] > 0]"
   ]
  },
  {
   "cell_type": "markdown",
   "id": "1e2608cc",
   "metadata": {},
   "source": [
    "#### Outlier Handling: Price = 0 & Luxury Listings\n",
    "\n",
    "- Listing dengan `price = 0` dihapus dari dataset karena:\n",
    "  - Kemungkinan merupakan kesalahan input.\n",
    "  - Tidak logis bagi investor untuk mempertimbangkan listing gratis dalam strategi monetisasi Airbnb.\n",
    "- Luxury Listings (dengan price sangat tinggi) **tidak dihapus** karena:\n",
    "  - Listing dengan harga premium tetap valid secara bisnis.\n",
    "  - Penting u/ analisis sebagai segmen market tersendiri (high-end luxury market).\n",
    "- Investor dapat mempertimbangkan apakah segmen ini layak dimasuki berdasarkan data okupansi & popularitasnya."
   ]
  },
  {
   "cell_type": "code",
   "execution_count": 18,
   "id": "2ed307c0",
   "metadata": {},
   "outputs": [
    {
     "name": "stdout",
     "output_type": "stream",
     "text": [
      "Jumlah listing dengan minimum_nights > 365: 15\n",
      "Distribusi nilai ekstrem minimum_nights:\n",
      "minimum_nights\n",
      "500     3\n",
      "999     2\n",
      "1125    1\n",
      "370     1\n",
      "998     1\n",
      "399     1\n",
      "1115    1\n",
      "700     1\n",
      "450     1\n",
      "1000    1\n",
      "400     1\n",
      "1095    1\n",
      "Name: count, dtype: int64\n"
     ]
    }
   ],
   "source": [
    "# Cek distribusi nilai unik minimum_nights yang ekstrem (di atas 365 malam)\n",
    "extreme_min_nights = df_copy[df_copy['minimum_nights'] > 365]\n",
    "print(f\"Jumlah listing dengan minimum_nights > 365: {extreme_min_nights.shape[0]}\")\n",
    "print(\"Distribusi nilai ekstrem minimum_nights:\")\n",
    "print(extreme_min_nights['minimum_nights'].value_counts())"
   ]
  },
  {
   "cell_type": "code",
   "execution_count": 19,
   "id": "cc116faa",
   "metadata": {},
   "outputs": [],
   "source": [
    "df_copy = df_copy[df_copy['minimum_nights'] <= 365]"
   ]
  },
  {
   "cell_type": "markdown",
   "id": "c9949ced",
   "metadata": {},
   "source": [
    "#### Kolom `minimum_nights` - Extreme High Value (1125 malam)\n",
    "Berdasarkan eksplorasi data, ditemukan **15 listing dengan nilai `minimum_nights` lebih dari 365 hari** (maksimum hingga 1125 malam atau ≈ 3 tahun). Nilai ini dianggap tidak wajar dalam konteks operasional Airbnb Bangkok dan berpotensi berasal dari:\n",
    "1. Listing untuk penyewaan jangka panjang (long-term lease) yang terdaftar di Airbnb.\n",
    "2. Kesalahan input dari host (data entry error).\n",
    "\n",
    "#### Alasan Menghapus Data Ini:\n",
    "1. **Menghindari distorsi statistik & visualisasi**\n",
    "   - Nilai ekstrem ini akan membuat distribusi minimum_nights menjadi bias.\n",
    "   - Jika dibiarkan, bisa menyesatkan saat menghitung statistik (mean, median) atau membuat visualisasi sebaran minimum stay.\n",
    "\n",
    "2. **Volume minoritas yang tidak signifikan**\n",
    "   - Data ini hanya mencakup 0.09% dari total listing (15 dari 15854 baris), sehingga penghapusan data ini tidak memengaruhi representasi data utama secara signifikan.\n",
    "\n",
    "3. **Fokus Analisis Optimalisasi Host & Listing Aktif**\n",
    "   - Proyek ini berfokus pada strategi optimalisasi performa listing (termasuk menghidupkan listing pasif).\n",
    "   - Listing dengan minimum stay yang sangat tinggi cenderung tidak sejalan dengan tujuan tersebut karena lebih bersifat spesifik untuk kontrak jangka panjang atau outlier input data."
   ]
  },
  {
   "cell_type": "markdown",
   "id": "615417c2",
   "metadata": {},
   "source": [
    "## Feature Engineering\n",
    "Buat fitur baru yang relevan untuk analisis popularitas."
   ]
  },
  {
   "cell_type": "code",
   "execution_count": 20,
   "id": "e7ec61e9",
   "metadata": {},
   "outputs": [],
   "source": [
    "# Status memiliki review atau tidak\n",
    "df_copy['has_review'] = np.where(df_copy['last_review'].isnull(), 0, 1)"
   ]
  },
  {
   "cell_type": "markdown",
   "id": "7d767d25",
   "metadata": {},
   "source": [
    "Membedakan listing yang pernah mendapatkan review dengan yang belum pernah direview. Listing tanpa review bisa jadi tidak aktif, baru dibuat, atau kurang diminati. Fitur ini akan sangat berguna saat menganalisis popularitas listing dan perilaku pelanggan."
   ]
  },
  {
   "cell_type": "code",
   "execution_count": 21,
   "id": "22905381",
   "metadata": {},
   "outputs": [],
   "source": [
    "# Jarak dari hari terkahir mendapatkan review\n",
    "df_copy['days_since_last_review'] = (pd.Timestamp('today') - df_copy['last_review']).dt.days"
   ]
  },
  {
   "cell_type": "markdown",
   "id": "cbe2acb0",
   "metadata": {},
   "source": [
    "Mengukur seberapa *up to date* aktivitas listing di pasar. Listing dengan review yang baru  menunjukkan performa yang relevan dan diminati. Sebaliknya, listing yang lama tidak mendapat review bisa menjadi indikasi penurunan popularitas atau listing yang pasif."
   ]
  },
  {
   "cell_type": "code",
   "execution_count": 22,
   "id": "e5805ddd",
   "metadata": {},
   "outputs": [],
   "source": [
    "# Klasifikasi tipe host\n",
    "def categorize_host(listing_count):\n",
    "    if listing_count == 1:\n",
    "        return 'Single Host'\n",
    "    elif 2 <= listing_count <= 5:\n",
    "        return 'Small Operator'\n",
    "    else:\n",
    "        return 'Professional Host'\n",
    "\n",
    "df_copy['host_type'] = df_copy['calculated_host_listings_count'].apply(categorize_host)"
   ]
  },
  {
   "cell_type": "markdown",
   "id": "b0ed1f99",
   "metadata": {},
   "source": [
    "Memahami profil host membantu analisis segmentasi pasar. Host profesional cenderung memiliki strategi pricing dan manajemen properti yang berbeda dibandingkan host individu. Ini penting bagi investor untuk mengetahui apakah listing yang dikelola profesional lebih menguntungkan atau tidak."
   ]
  },
  {
   "cell_type": "code",
   "execution_count": 23,
   "id": "24eaf338",
   "metadata": {},
   "outputs": [],
   "source": [
    "# Estimasi pendapatan kasar\n",
    "df_copy['estimated_revenue'] = df_copy['price'] * (365 - df_copy['availability_365'])"
   ]
  },
  {
   "cell_type": "markdown",
   "id": "7524dbab",
   "metadata": {},
   "source": [
    "Fitur ini memberikan estimasi kasar potensi pendapatan listing. Walaupun tidak 100% akurat, proyeksi revenue adalah metrik krusial bagi investor untuk menilai daya tarik listing secara finansial. Ini akan digunakan untuk membandingkan potensi pendapatan antar listing, room type, atau neighborhood."
   ]
  },
  {
   "cell_type": "code",
   "execution_count": 24,
   "id": "62bc70f2",
   "metadata": {},
   "outputs": [
    {
     "data": {
      "text/plain": [
       "is_professional_host\n",
       "1    11239\n",
       "0     4599\n",
       "Name: count, dtype: int64"
      ]
     },
     "execution_count": 24,
     "metadata": {},
     "output_type": "execute_result"
    }
   ],
   "source": [
    "# Membuat kolom is_professional_host (binary 0/1) u/ memudahkan agregasi\n",
    "df_copy['is_professional_host'] = np.where(df_copy['calculated_host_listings_count'] > 1, 1, 0)\n",
    "# Cek distribusi kategorinya\n",
    "df_copy['is_professional_host'].value_counts()"
   ]
  },
  {
   "cell_type": "markdown",
   "id": "a6ff7882",
   "metadata": {},
   "source": [
    "Membuat kategori binary memudahkan analisis segmentasi saat filtering, visualisasi, atau uji statistik. Ini akan menjawab apakah host profesional benar-benar lebih sukses dibandingkan host individu (dari sisi popularitas atau pendapatan)."
   ]
  },
  {
   "cell_type": "code",
   "execution_count": 25,
   "id": "675ec2c1",
   "metadata": {},
   "outputs": [],
   "source": [
    "# Estimasi okupansi\n",
    "df_copy['estimated_occupancy_rate'] = (365 - df_copy['availability_365']) / 365"
   ]
  },
  {
   "cell_type": "markdown",
   "id": "c7b215c4",
   "metadata": {},
   "source": [
    "Semakin rendah availability, kemungkinan besar listing tersebut sering dipesan (demand tinggi). Fitur ini menjadi indikator minat pasar terhadap listing."
   ]
  },
  {
   "cell_type": "code",
   "execution_count": 26,
   "id": "7104b395",
   "metadata": {},
   "outputs": [
    {
     "name": "stdout",
     "output_type": "stream",
     "text": [
      "Batas Harga Terjangkau (Q1): 900.0\n",
      "Batas Harga Premium (Q3): 2429.0\n"
     ]
    },
    {
     "data": {
      "text/plain": [
       "price_category\n",
       "Menengah      8032\n",
       "Premium       3956\n",
       "Terjangkau    3850\n",
       "Name: count, dtype: int64"
      ]
     },
     "execution_count": 26,
     "metadata": {},
     "output_type": "execute_result"
    }
   ],
   "source": [
    "# Menghitung kuartil distribusi harga\n",
    "q1_price = df_copy['price'].quantile(0.25)\n",
    "q3_price = df_copy['price'].quantile(0.75)\n",
    "\n",
    "print(f\"Batas Harga Terjangkau (Q1): {q1_price}\")\n",
    "print(f\"Batas Harga Premium (Q3): {q3_price}\")\n",
    "\n",
    "# Fungsi klasifikasi harga\n",
    "def classify_price(price):\n",
    "    if price < q1_price:\n",
    "        return 'Terjangkau'\n",
    "    elif q1_price <= price <= q3_price:\n",
    "        return 'Menengah'\n",
    "    else:\n",
    "        return 'Premium'\n",
    "\n",
    "# Membuat kolom price_category\n",
    "df_copy['price_category'] = df_copy['price'].apply(classify_price)\n",
    "\n",
    "# Cek distribusi kategori harga\n",
    "df_copy['price_category'].value_counts()"
   ]
  },
  {
   "cell_type": "markdown",
   "id": "ce49bc62",
   "metadata": {},
   "source": [
    "Membantu segmentasi pasar (mass market, premium, luxury) sehingga mempermudah analisis pricing strategy di EDA."
   ]
  },
  {
   "cell_type": "code",
   "execution_count": 27,
   "id": "27fc756a",
   "metadata": {},
   "outputs": [
    {
     "data": {
      "text/plain": [
       "review_recency\n",
       "Lama Tidak Aktif (>90 hari)    10057\n",
       "Belum Ada Review                5781\n",
       "Cukup Aktif (31-90 hari)           0\n",
       "Review Baru (0-30 hari)            0\n",
       "Name: count, dtype: int64"
      ]
     },
     "execution_count": 27,
     "metadata": {},
     "output_type": "execute_result"
    }
   ],
   "source": [
    "# Binning days_since_last_review (untuk yang ada datanya)\n",
    "bins = [-1, 30, 90, float('inf')]\n",
    "labels = ['Review Baru (0-30 hari)', 'Cukup Aktif (31-90 hari)', 'Lama Tidak Aktif (>90 hari)']\n",
    "\n",
    "df_copy['review_recency'] = pd.cut(df_copy['days_since_last_review'], bins=bins, labels=labels, right=True)\n",
    "\n",
    "# Isi NaN (listing tanpa review) dengan kategori khusus\n",
    "df_copy['review_recency'] = df_copy['review_recency'].cat.add_categories('Belum Ada Review').fillna('Belum Ada Review')\n",
    "\n",
    "# Cek distribusi kategori keterkinian review\n",
    "df_copy['review_recency'].value_counts()"
   ]
  },
  {
   "cell_type": "markdown",
   "id": "cb4f435c",
   "metadata": {},
   "source": [
    "Menyederhanakan pemantauan keaktifan listing, sehingga mudah mengidentifikasi listing yang masih relevan di pasar."
   ]
  },
  {
   "cell_type": "markdown",
   "id": "62ea7966",
   "metadata": {},
   "source": [
    "## Cross-Field Review Consistency Check\n",
    "Validasi logika relasi antara number_of_reviews dan last_review."
   ]
  },
  {
   "cell_type": "code",
   "execution_count": 28,
   "id": "cbdda40f",
   "metadata": {},
   "outputs": [
    {
     "data": {
      "text/html": [
       "<div>\n",
       "<style scoped>\n",
       "    .dataframe tbody tr th:only-of-type {\n",
       "        vertical-align: middle;\n",
       "    }\n",
       "\n",
       "    .dataframe tbody tr th {\n",
       "        vertical-align: top;\n",
       "    }\n",
       "\n",
       "    .dataframe thead th {\n",
       "        text-align: right;\n",
       "    }\n",
       "</style>\n",
       "<table border=\"1\" class=\"dataframe\">\n",
       "  <thead>\n",
       "    <tr style=\"text-align: right;\">\n",
       "      <th></th>\n",
       "      <th>id</th>\n",
       "      <th>name</th>\n",
       "      <th>host_id</th>\n",
       "      <th>host_name</th>\n",
       "      <th>neighbourhood</th>\n",
       "      <th>latitude</th>\n",
       "      <th>longitude</th>\n",
       "      <th>room_type</th>\n",
       "      <th>price</th>\n",
       "      <th>minimum_nights</th>\n",
       "      <th>...</th>\n",
       "      <th>availability_365</th>\n",
       "      <th>number_of_reviews_ltm</th>\n",
       "      <th>has_review</th>\n",
       "      <th>days_since_last_review</th>\n",
       "      <th>host_type</th>\n",
       "      <th>estimated_revenue</th>\n",
       "      <th>is_professional_host</th>\n",
       "      <th>estimated_occupancy_rate</th>\n",
       "      <th>price_category</th>\n",
       "      <th>review_recency</th>\n",
       "    </tr>\n",
       "  </thead>\n",
       "  <tbody>\n",
       "  </tbody>\n",
       "</table>\n",
       "<p>0 rows × 24 columns</p>\n",
       "</div>"
      ],
      "text/plain": [
       "Empty DataFrame\n",
       "Columns: [id, name, host_id, host_name, neighbourhood, latitude, longitude, room_type, price, minimum_nights, number_of_reviews, last_review, reviews_per_month, calculated_host_listings_count, availability_365, number_of_reviews_ltm, has_review, days_since_last_review, host_type, estimated_revenue, is_professional_host, estimated_occupancy_rate, price_category, review_recency]\n",
       "Index: []\n",
       "\n",
       "[0 rows x 24 columns]"
      ]
     },
     "execution_count": 28,
     "metadata": {},
     "output_type": "execute_result"
    }
   ],
   "source": [
    "# Review dengan 0 reviews tapi punya last_review (harusnya tidak ada)\n",
    "df_copy[(df_copy['number_of_reviews'] == 0) & (df_copy['last_review'].notnull())]\n",
    "\n",
    "# Review lebih dari 0 tapi last_review kosong (harusnya tidak ada)\n",
    "df_copy[(df_copy['number_of_reviews'] > 0) & (df_copy['last_review'].isnull())]"
   ]
  },
  {
   "cell_type": "code",
   "execution_count": 29,
   "id": "89e987e7",
   "metadata": {},
   "outputs": [
    {
     "name": "stdout",
     "output_type": "stream",
     "text": [
      "Jumlah listing yang inconsisten (reviews > 0 tapi tidak ada last_review): 0\n"
     ]
    }
   ],
   "source": [
    "inconsistent_reviews = df_copy[(df_copy['number_of_reviews'] > 0) & (df_copy['last_review'].isnull())]\n",
    "print(f\"Jumlah listing yang inconsisten (reviews > 0 tapi tidak ada last_review): {inconsistent_reviews.shape[0]}\")"
   ]
  },
  {
   "cell_type": "markdown",
   "id": "7aa008af",
   "metadata": {},
   "source": [
    "## Post-Cleaning Data Validation\n",
    " Melakukan pengecekan ulang untuk memastikan hasil cleaning sesuai ekspektasi dan data siap dianalisis."
   ]
  },
  {
   "cell_type": "code",
   "execution_count": 30,
   "id": "b9ea24c0",
   "metadata": {},
   "outputs": [
    {
     "name": "stdout",
     "output_type": "stream",
     "text": [
      "<class 'pandas.core.frame.DataFrame'>\n",
      "Index: 15838 entries, 0 to 15853\n",
      "Data columns (total 24 columns):\n",
      " #   Column                          Non-Null Count  Dtype         \n",
      "---  ------                          --------------  -----         \n",
      " 0   id                              15838 non-null  int64         \n",
      " 1   name                            15838 non-null  object        \n",
      " 2   host_id                         15838 non-null  int64         \n",
      " 3   host_name                       15838 non-null  object        \n",
      " 4   neighbourhood                   15838 non-null  object        \n",
      " 5   latitude                        15838 non-null  float64       \n",
      " 6   longitude                       15838 non-null  float64       \n",
      " 7   room_type                       15838 non-null  object        \n",
      " 8   price                           15838 non-null  float64       \n",
      " 9   minimum_nights                  15838 non-null  int64         \n",
      " 10  number_of_reviews               15838 non-null  int64         \n",
      " 11  last_review                     10057 non-null  datetime64[ns]\n",
      " 12  reviews_per_month               10057 non-null  float64       \n",
      " 13  calculated_host_listings_count  15838 non-null  int64         \n",
      " 14  availability_365                15838 non-null  int64         \n",
      " 15  number_of_reviews_ltm           15838 non-null  int64         \n",
      " 16  has_review                      15838 non-null  int64         \n",
      " 17  days_since_last_review          10057 non-null  float64       \n",
      " 18  host_type                       15838 non-null  object        \n",
      " 19  estimated_revenue               15838 non-null  float64       \n",
      " 20  is_professional_host            15838 non-null  int64         \n",
      " 21  estimated_occupancy_rate        15838 non-null  float64       \n",
      " 22  price_category                  15838 non-null  object        \n",
      " 23  review_recency                  15838 non-null  category      \n",
      "dtypes: category(1), datetime64[ns](1), float64(7), int64(9), object(6)\n",
      "memory usage: 2.9+ MB\n"
     ]
    }
   ],
   "source": [
    "df_copy.info()"
   ]
  },
  {
   "cell_type": "code",
   "execution_count": 31,
   "id": "9da1eb53",
   "metadata": {},
   "outputs": [
    {
     "data": {
      "text/plain": [
       "host_type\n",
       "Professional Host    6928\n",
       "Single Host          4599\n",
       "Small Operator       4311\n",
       "Name: count, dtype: int64"
      ]
     },
     "execution_count": 31,
     "metadata": {},
     "output_type": "execute_result"
    }
   ],
   "source": [
    "df_copy['room_type'].unique()\n",
    "df_copy['neighbourhood'].nunique()\n",
    "df_copy['host_type'].value_counts()"
   ]
  },
  {
   "cell_type": "code",
   "execution_count": 32,
   "id": "fa586b43",
   "metadata": {},
   "outputs": [
    {
     "data": {
      "image/png": "[encoded data removed]",
      "text/plain": [
       "<Figure size 640x480 with 1 Axes>"
      ]
     },
     "metadata": {},
     "output_type": "display_data"
    },
    {
     "data": {
      "image/png": "[encoded data removed]",
      "text/plain": [
       "<Figure size 640x480 with 1 Axes>"
      ]
     },
     "metadata": {},
     "output_type": "display_data"
    }
   ],
   "source": [
    "# Distribusi harga setelah cleaning\n",
    "sns.histplot(df_copy['price'], bins=50)\n",
    "plt.title('Distribusi Harga')\n",
    "plt.show()\n",
    "\n",
    "# Distribusi availability_365 setelah cleaning\n",
    "sns.histplot(df_copy['availability_365'], bins=50)\n",
    "plt.title('Distribusi Availability (365 Days)')\n",
    "plt.show()"
   ]
  },
  {
   "cell_type": "markdown",
   "id": "d54f0d36",
   "metadata": {},
   "source": [
    "**Insight:**\n",
    "- Cleaning hanya menghapus minor outlier\n",
    "- Dominasi listing dengan harga rendah\n",
    "- Left skewed\n",
    "- Terdapat puncak yang sangat tinggi di nilai 365 menunjukkan banyak listing yang selalu tersedia sepanjang tahun.\n",
    "- Ada kelompok kecil listing dengan availability sangat rendah (0-10 hari).\n",
    "- Terlihat ada spike di availability sekitar 90, 180 hari, dsb.\n",
    "    - Ini mungkin menunjukkan listing yang diatur per 3 bulan atau 6 bulan siklus ketersediaannya.\n",
    "    - Bisa jadi ini properti yang dibuka musiman atau pemiliknya hanya menyewakan di periode tertentu."
   ]
  },
  {
   "cell_type": "markdown",
   "id": "564b1f81",
   "metadata": {},
   "source": [
    "## Save Cleaned Dataset\n",
    "\n",
    "Dataset telah melalui proses Data Preparation."
   ]
  },
  {
   "cell_type": "markdown",
   "id": "42f84f65",
   "metadata": {},
   "source": [
    "### Final Checklist\n",
    "- Penanganan missing values secara kontekstual.\n",
    "- Pembersihan data duplikat dan anomali.\n",
    "- Koreksi tipe data numerik & tanggal.\n",
    "- Outlier handling yang relevan dengan pasar Short-Term Rental (STR).\n",
    "- Pembuatan fitur tambahan yang mendukung analisis popularitas listing.\n",
    "\n",
    "Dataset yang sudah bersih ini akan disimpan dan digunakan untuk proses **Exploratory Data Analysis (EDA)** selanjutnya agar dapat memberikan insight yang akurat dan bernilai bagi kebutuhan investor."
   ]
  },
  {
   "cell_type": "code",
   "execution_count": 34,
   "id": "1c0977e8",
   "metadata": {},
   "outputs": [],
   "source": [
    "# Save Cleaned Dataset\n",
    "df_copy.to_csv('cleaned_airbnb_bangkok.csv', index=False)"
   ]
  }
 ],
 "metadata": {
  "kernelspec": {
   "display_name": "Python 3",
   "language": "python",
   "name": "python3"
  },
  "language_info": {
   "codemirror_mode": {
    "name": "ipython",
    "version": 3
   },
   "file_extension": ".py",
   "mimetype": "text/x-python",
   "name": "python",
   "nbconvert_exporter": "python",
   "pygments_lexer": "ipython3",
   "version": "3.13.5"
  }
 },
 "nbformat": 4,
 "nbformat_minor": 5
}
