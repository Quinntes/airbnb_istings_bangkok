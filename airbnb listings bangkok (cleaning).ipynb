{
 "cells": [
  {
   "cell_type": "markdown",
   "id": "786b589d",
   "metadata": {},
   "source": [
    "# Capstone Project 2: Analisis Popularitas Listing Airbnb di Bangkok"
   ]
  },
  {
   "cell_type": "markdown",
   "id": "772e7143",
   "metadata": {},
   "source": [
    "## Latar Belakang\n",
    "Airbnb di Bangkok memiliki lebih dari 14.000 listing aktif, dengan rata-rata pendapatan tahunan sekitar $7.443 dan tingkat okupansi sekitar 44%. Meskipun ada variasi dalam kinerja listing, beberapa faktor utama seperti harga, jenis kamar, lokasi, dan ulasan berperan penting dalam menentukan popularitas dan potensi pendapatan. Namun, banyak listing yang tidak optimal dalam menarik tamu, terutama yang jarang memperbarui informasi dan mendapatkan ulasan.\n",
    "\n",
    "**Sumber:** [Airroi](https://www.airroi.com/report/world/thailand/bangkok/bangkok)\n",
    "\n",
    "## Problem Statement\n",
    "Tujuan dari analisis ini adalah untuk mengidentifikasi faktor-faktor yang mempengaruhi performa listing Airbnb di Bangkok, baik dalam hal popularitas maupun potensi pendapatan. Faktor-faktor ini akan dieksplorasi berdasarkan data yang tersedia, termasuk jenis kamar, harga, lokasi, serta ulasan tamu. Dengan pemahaman yang lebih baik mengenai faktor-faktor ini, Airbnb dapat memberikan rekomendasi yang lebih tepat kepada host untuk mengoptimalkan listing mereka.\n",
    "\n",
    "### Pertanyaan Analitis (Big Questions):\n",
    "1. **Bagaimana pengaruh jenis kamar (misalnya: seluruh tempat, kamar pribadi, kamar bersama) terhadap kinerja listing?**  \n",
    "2. **Apakah ada hubungan signifikan antara harga dan tingkat okupansi yang memengaruhi pendapatan?**  \n",
    "3. **Faktor apa saja yang membuat listing dengan jumlah ulasan terbanyak memiliki kinerja lebih baik dibandingkan lainnya?**  \n",
    "4. **Sejauh mana keterkinian ulasan mempengaruhi performa listing Airbnb di Bangkok?**  \n",
    "5. **Apakah listing milik host profesional memiliki performa yang lebih baik dibandingkan host non-profesional?**\n",
    "\n",
    "Analisis ini bertujuan untuk menggali lebih dalam faktor-faktor yang memengaruhi performa listing dan memberikan rekomendasi untuk mengoptimalkan potensi pendapatan dan okupansi. Langkah pertama yang akan dilakukan adalah data cleaning dan feature engineering untuk memastikan kualitas data yang digunakan, serta menyiapkan fitur tambahan yang dapat memperkaya analisis.\n",
    "\n",
    "**Langkah Selanjutnya:**  \n",
    "Data cleaning dan feature engineering adalah tahap pertama yang sangat penting. Data yang digunakan akan dievaluasi untuk memastikan kualitasnya, dengan memeriksa adanya nilai yang hilang, duplikasi, atau data yang tidak konsisten. Selain itu, fitur baru yang dapat memperkaya analisis juga akan dikembangkan untuk memberikan wawasan lebih dalam terhadap faktor-faktor yang mempengaruhi performa listing."
   ]
  },
  {
   "cell_type": "markdown",
   "id": "28d521e0",
   "metadata": {},
   "source": [
    "# Data Preparation "
   ]
  },
  {
   "cell_type": "markdown",
   "id": "9a218d85",
   "metadata": {},
   "source": [
    "## Import Library\n",
    "Pada tahap ini, kita akan mengimpor library yang diperlukan untuk analisis data dan visualisasi. Beberapa library yang akan digunakan di antaranya:"
   ]
  },
  {
   "cell_type": "code",
   "execution_count": 1,
   "id": "b230d43d",
   "metadata": {},
   "outputs": [],
   "source": [
    "# Import library yang akan digunakan\n",
    "import pandas as pd\n",
    "import numpy as np\n",
    "import matplotlib.pyplot as plt\n",
    "import seaborn as sns\n",
    "from scipy import stats\n",
    "import requests\n",
    "import folium\n",
    "\n",
    "import warnings\n",
    "warnings.filterwarnings('ignore')"
   ]
  },
  {
   "cell_type": "markdown",
   "id": "09e8d200",
   "metadata": {},
   "source": [
    "| Library             | Kegunaan                                                                                                                                                 |\n",
    "| ------------------- | -------------------------------------------------------------------------------------------------------------------------------------------------------- |\n",
    "| `pandas`            | Digunakan untuk manipulasi data, seperti pembersihan, transformasi, dan analisis data tabular.                                                           |\n",
    "| `numpy`             | Digunakan untuk operasi numerik, terutama untuk menghitung statistik dan manipulasi array/matriks.                                                       |\n",
    "| `matplotlib.pyplot` | Digunakan untuk visualisasi data, terutama grafik dasar seperti histogram, boxplot, dll.                                                                 |\n",
    "| `seaborn`           | Digunakan untuk visualisasi data tingkat lanjut dengan desain yang lebih menarik dan informatif (misalnya, heatmap untuk missing values, pairplot, dll). |\n",
    "| `scipy.stats`       | Digunakan untuk analisis statistik, seperti uji normalitas, uji hipotesis, dan uji outlier.                                                              |\n",
    "| `requests`          | Digunakan untuk permintaan HTTP, berguna jika Anda mengunduh data dari API atau sumber eksternal.                                                        |\n",
    "| `folium`            | Digunakan untuk visualisasi peta interaktif, berguna jika data melibatkan koordinat geografis (latitude/longitude).                                      |\n",
    "| `warnings`            | Mengatur agar Python mengabaikan semua peringatan (warnings) yang muncul selama eksekusi kode.                                      |"
   ]
  },
  {
   "cell_type": "markdown",
   "id": "a336ad1d",
   "metadata": {},
   "source": [
    "## Load Dataset\n",
    "Langkah pertama dalam analisis ini adalah memuat dataset yang akan digunakan. \n",
    "Impor data dilakukan dari dua sumber: \n",
    "- Dataset utama dalam format CSV yang berisi informasi mengenai listing Airbnb di Bangkok.\n",
    "- Data GeoJSON yang menggambarkan distrik-distrik di Bangkok yang akan digunakan untuk visualisasi geografis."
   ]
  },
  {
   "cell_type": "code",
   "execution_count": 2,
   "id": "5aec4c0b",
   "metadata": {},
   "outputs": [],
   "source": [
    "# Load dataset Airbnb Listings Bangkok\n",
    "url = 'https://raw.githubusercontent.com/Quinntes/airbnb_listings_bangkok/refs/heads/main/Airbnb%20Listings%20Bangkok.csv'\n",
    "df_raw = pd.read_csv(url)"
   ]
  },
  {
   "cell_type": "markdown",
   "id": "ca4a6371",
   "metadata": {},
   "source": [
    "## Backup Raw Dataset\n",
    "Sebelum melakukan proses **data cleaning**, sangat penting untuk membuat salinan (backup) dari dataset asli. Hal ini akan memastikan bahwa data original tetap aman dan dapat dibandingkan dengan data yang sudah dibersihkan. Backup juga memberikan fleksibilitas jika kita ingin **rollback** ke data awal tanpa perlu me-load ulang file CSV yang besar.\n",
    "\n",
    "Langkah ini hanya membuat duplikat DataFrame di memori Python, sehingga perubahan pada **`df_copy`** tidak akan mempengaruhi dataset asli **`df_raw`**.\n",
    "\n",
    "**Tujuan Backup:**\n",
    "1. Mencegah kehilangan data asli jika terjadi kesalahan selama proses cleaning.\n",
    "2. Memungkinkan perbandingan antara dataset yang telah dibersihkan dengan dataset asli.\n",
    "3. Memberikan fleksibilitas untuk rollback ke dataset awal tanpa perlu me-load ulang file."
   ]
  },
  {
   "cell_type": "code",
   "execution_count": 3,
   "id": "e601edbe",
   "metadata": {},
   "outputs": [],
   "source": [
    "# Backup Raw Dataset\n",
    "df_copy = df_raw.copy()"
   ]
  },
  {
   "cell_type": "markdown",
   "id": "c896529a",
   "metadata": {},
   "source": [
    "## Data Overview\n",
    "Sebelum masuk ke analisis, penting memastikan data dalam kondisi bersih dan siap pakai. Proses ini meliputi melihat bentuk data, pengecekan missing values, duplikasi, koreksi tipe data, dan membangun fitur tambahan agar informasi yang tersembunyi bisa ditarik keluar (feature engineering)."
   ]
  },
  {
   "cell_type": "code",
   "execution_count": 4,
   "id": "d9c7f78e",
   "metadata": {},
   "outputs": [
    {
     "name": "stdout",
     "output_type": "stream",
     "text": [
      "Jumlah baris: 15854, Jumlah kolom: 17\n",
      "<class 'pandas.core.frame.DataFrame'>\n",
      "RangeIndex: 15854 entries, 0 to 15853\n",
      "Data columns (total 17 columns):\n",
      " #   Column                          Non-Null Count  Dtype  \n",
      "---  ------                          --------------  -----  \n",
      " 0   Unnamed: 0                      15854 non-null  int64  \n",
      " 1   id                              15854 non-null  int64  \n",
      " 2   name                            15846 non-null  object \n",
      " 3   host_id                         15854 non-null  int64  \n",
      " 4   host_name                       15853 non-null  object \n",
      " 5   neighbourhood                   15854 non-null  object \n",
      " 6   latitude                        15854 non-null  float64\n",
      " 7   longitude                       15854 non-null  float64\n",
      " 8   room_type                       15854 non-null  object \n",
      " 9   price                           15854 non-null  int64  \n",
      " 10  minimum_nights                  15854 non-null  int64  \n",
      " 11  number_of_reviews               15854 non-null  int64  \n",
      " 12  last_review                     10064 non-null  object \n",
      " 13  reviews_per_month               10064 non-null  float64\n",
      " 14  calculated_host_listings_count  15854 non-null  int64  \n",
      " 15  availability_365                15854 non-null  int64  \n",
      " 16  number_of_reviews_ltm           15854 non-null  int64  \n",
      "dtypes: float64(3), int64(9), object(5)\n",
      "memory usage: 2.1+ MB\n"
     ]
    }
   ],
   "source": [
    "# Cek dimensi data\n",
    "print(f\"Jumlah baris: {df_copy.shape[0]}, Jumlah kolom: {df_copy.shape[1]}\")\n",
    "\n",
    "# Menampilkan informasi dataset\n",
    "df_copy.info()  # Memeriksa tipe data dan jumlah entri dalam dataset"
   ]
  },
  {
   "cell_type": "markdown",
   "id": "51796ee8",
   "metadata": {},
   "source": [
    "### Keterangan Kolom Dataset\n",
    "| Nama Kolom                         | Deskripsi                                                                 |\n",
    "|------------------------------------|---------------------------------------------------------------------------|\n",
    "| Unnamed: 0                         | Index otomatis dari file CSV (bisa diabaikan/dihapus).                    |\n",
    "| id                                 | ID unik untuk setiap listing.                                             |\n",
    "| name                               | Nama listing Airbnb.                                                      |\n",
    "| host_id                            | ID unik pemilik (host).                                                   |\n",
    "| host_name                          | Nama pemilik listing.                                                     |\n",
    "| neighbourhood                      | Lokasi/area geografis listing.                                            |\n",
    "| latitude                           | Koordinat latitude listing.                                               |\n",
    "| longitude                          | Koordinat longitude listing.                                              |\n",
    "| room_type                          | Jenis ruang (Entire home/apt, Private room, Shared room, Hotel).          |\n",
    "| price                              | Harga per malam.                                                          |\n",
    "| minimum_nights                     | Jumlah malam minimum untuk menginap.                                       |\n",
    "| number_of_reviews                  | Total jumlah ulasan yang dimiliki listing.                                |\n",
    "| last_review                        | Tanggal ulasan terakhir.                                                  |\n",
    "| reviews_per_month                  | Rata-rata ulasan per bulan.                                               |\n",
    "| calculated_host_listings_count     | Jumlah listing yang dimiliki host di area tersebut.                       |\n",
    "| availability_365                   | Jumlah hari listing tersedia dalam setahun (maks 365).                    |\n",
    "| number_of_reviews_ltm              | Jumlah ulasan dalam 12 bulan terakhir."
   ]
  },
  {
   "cell_type": "code",
   "execution_count": 5,
   "id": "e5239008",
   "metadata": {},
   "outputs": [
    {
     "data": {
      "text/html": [
       "<div>\n",
       "<style scoped>\n",
       "    .dataframe tbody tr th:only-of-type {\n",
       "        vertical-align: middle;\n",
       "    }\n",
       "\n",
       "    .dataframe tbody tr th {\n",
       "        vertical-align: top;\n",
       "    }\n",
       "\n",
       "    .dataframe thead th {\n",
       "        text-align: right;\n",
       "    }\n",
       "</style>\n",
       "<table border=\"1\" class=\"dataframe\">\n",
       "  <thead>\n",
       "    <tr style=\"text-align: right;\">\n",
       "      <th></th>\n",
       "      <th>name</th>\n",
       "      <th>host_name</th>\n",
       "      <th>neighbourhood</th>\n",
       "      <th>room_type</th>\n",
       "      <th>last_review</th>\n",
       "    </tr>\n",
       "  </thead>\n",
       "  <tbody>\n",
       "    <tr>\n",
       "      <th>count</th>\n",
       "      <td>15846</td>\n",
       "      <td>15853</td>\n",
       "      <td>15854</td>\n",
       "      <td>15854</td>\n",
       "      <td>10064</td>\n",
       "    </tr>\n",
       "    <tr>\n",
       "      <th>unique</th>\n",
       "      <td>14794</td>\n",
       "      <td>5312</td>\n",
       "      <td>50</td>\n",
       "      <td>4</td>\n",
       "      <td>1669</td>\n",
       "    </tr>\n",
       "    <tr>\n",
       "      <th>top</th>\n",
       "      <td>New!  La Chada Night Market studio 2PPL near MRT</td>\n",
       "      <td>Curry</td>\n",
       "      <td>Vadhana</td>\n",
       "      <td>Entire home/apt</td>\n",
       "      <td>2022-12-11</td>\n",
       "    </tr>\n",
       "    <tr>\n",
       "      <th>freq</th>\n",
       "      <td>45</td>\n",
       "      <td>228</td>\n",
       "      <td>2153</td>\n",
       "      <td>8912</td>\n",
       "      <td>189</td>\n",
       "    </tr>\n",
       "  </tbody>\n",
       "</table>\n",
       "</div>"
      ],
      "text/plain": [
       "                                                    name host_name  \\\n",
       "count                                              15846     15853   \n",
       "unique                                             14794      5312   \n",
       "top     New!  La Chada Night Market studio 2PPL near MRT     Curry   \n",
       "freq                                                  45       228   \n",
       "\n",
       "       neighbourhood        room_type last_review  \n",
       "count          15854            15854       10064  \n",
       "unique            50                4        1669  \n",
       "top          Vadhana  Entire home/apt  2022-12-11  \n",
       "freq            2153             8912         189  "
      ]
     },
     "execution_count": 5,
     "metadata": {},
     "output_type": "execute_result"
    }
   ],
   "source": [
    "# Menampilkan beberapa baris pertama dari dataset untuk memahami struktur data\n",
    "df_copy.head()\n",
    "\n",
    "# Statistik deskriptif tipe data objek\n",
    "df_copy.describe(include='object')"
   ]
  },
  {
   "cell_type": "code",
   "execution_count": 6,
   "id": "401e484e",
   "metadata": {},
   "outputs": [
    {
     "data": {
      "text/plain": [
       "room_type\n",
       "Entire home/apt    8912\n",
       "Private room       5770\n",
       "Hotel room          649\n",
       "Shared room         523\n",
       "Name: count, dtype: int64"
      ]
     },
     "execution_count": 6,
     "metadata": {},
     "output_type": "execute_result"
    }
   ],
   "source": [
    "# Cek jenis ruangan dan jumlahnya\n",
    "df_copy['room_type'].value_counts()"
   ]
  },
  {
   "cell_type": "code",
   "execution_count": 7,
   "id": "9ed7cc5e",
   "metadata": {},
   "outputs": [
    {
     "data": {
      "text/plain": [
       "neighbourhood\n",
       "Vadhana         2153\n",
       "Khlong Toei     2097\n",
       "Huai Khwang     1125\n",
       "Ratchathewi     1114\n",
       "Bang Rak         827\n",
       "Sathon           809\n",
       "Phra Nakhon      619\n",
       "Phra Khanong     558\n",
       "Chatu Chak       548\n",
       "Bang Na          458\n",
       "Name: count, dtype: int64"
      ]
     },
     "execution_count": 7,
     "metadata": {},
     "output_type": "execute_result"
    }
   ],
   "source": [
    "# Cek nama neighbourhood dan jumlahnya\n",
    "df_copy['neighbourhood'].value_counts().head(10)"
   ]
  },
  {
   "cell_type": "markdown",
   "id": "6217b410",
   "metadata": {},
   "source": [
    "### Checklist Decision Data Overview"
   ]
  },
  {
   "cell_type": "code",
   "execution_count": 8,
   "id": "c81ccc1a",
   "metadata": {},
   "outputs": [],
   "source": [
    "# Drop kolom Unnamed\n",
    "df_copy.drop(columns=['Unnamed: 0'], inplace=True)"
   ]
  },
  {
   "cell_type": "markdown",
   "id": "b26df9b0",
   "metadata": {},
   "source": [
    "#### Drop Kolom `Unnamed: 0`\n",
    "Kolom ini merupakan index otomatis dari file CSV saat proses export, sehingga tidak memiliki nilai informasi yang relevan dengan analisis bisnis. Maka dari itu, kolom ini dihapus untuk menjaga kebersihan dataset."
   ]
  },
  {
   "cell_type": "markdown",
   "id": "ff544292",
   "metadata": {},
   "source": [
    "## Missing Values Check\n",
    "Cek kolom mana yang memiliki missing values."
   ]
  },
  {
   "cell_type": "code",
   "execution_count": 9,
   "id": "1b44396e",
   "metadata": {},
   "outputs": [
    {
     "data": {
      "text/plain": [
       "id                                   0\n",
       "name                                 8\n",
       "host_id                              0\n",
       "host_name                            1\n",
       "neighbourhood                        0\n",
       "latitude                             0\n",
       "longitude                            0\n",
       "room_type                            0\n",
       "price                                0\n",
       "minimum_nights                       0\n",
       "number_of_reviews                    0\n",
       "last_review                       5790\n",
       "reviews_per_month                 5790\n",
       "calculated_host_listings_count       0\n",
       "availability_365                     0\n",
       "number_of_reviews_ltm                0\n",
       "dtype: int64"
      ]
     },
     "execution_count": 9,
     "metadata": {},
     "output_type": "execute_result"
    }
   ],
   "source": [
    "# Jumlah missing values per kolom\n",
    "df_copy.isnull().sum()"
   ]
  },
  {
   "cell_type": "code",
   "execution_count": 10,
   "id": "989258c3",
   "metadata": {},
   "outputs": [
    {
     "data": {
      "text/plain": [
       "id                                 0.000000\n",
       "name                               0.050460\n",
       "host_id                            0.000000\n",
       "host_name                          0.006308\n",
       "neighbourhood                      0.000000\n",
       "latitude                           0.000000\n",
       "longitude                          0.000000\n",
       "room_type                          0.000000\n",
       "price                              0.000000\n",
       "minimum_nights                     0.000000\n",
       "number_of_reviews                  0.000000\n",
       "last_review                       36.520752\n",
       "reviews_per_month                 36.520752\n",
       "calculated_host_listings_count     0.000000\n",
       "availability_365                   0.000000\n",
       "number_of_reviews_ltm              0.000000\n",
       "dtype: float64"
      ]
     },
     "execution_count": 10,
     "metadata": {},
     "output_type": "execute_result"
    }
   ],
   "source": [
    "# Persentase missing values per kolom\n",
    "(df_copy.isnull().sum() / df_copy.shape[0]) * 100"
   ]
  },
  {
   "cell_type": "markdown",
   "id": "b6a285fc",
   "metadata": {},
   "source": [
    "### Checklist Decision Missing Values\n",
    "#### Handling Missing Values: `name` & `host_name`"
   ]
  },
  {
   "cell_type": "code",
   "execution_count": 11,
   "id": "21fd35ef",
   "metadata": {},
   "outputs": [],
   "source": [
    "df_copy['name'].fillna('No Name', inplace=True)"
   ]
  },
  {
   "cell_type": "code",
   "execution_count": 12,
   "id": "43aef5d0",
   "metadata": {},
   "outputs": [],
   "source": [
    "df_copy['host_name'].fillna('Unknown', inplace=True)"
   ]
  },
  {
   "cell_type": "markdown",
   "id": "94b1e337",
   "metadata": {},
   "source": [
    "- Kolom `name` dan `host_name` memiliki missing values masing-masing sebesar 0.05% dan 0.006% dari total data.\n",
    "- Kolom ini **tidak digunakan dalam analisis numerik atau segmentasi**, karena:\n",
    "  - `name`: Hanya sebagai label deskriptif listing.\n",
    "  - `host_name`: Tidak relevan karena menganalisis host berdasarkan **jumlah listing yang dimiliki (host_type)**, bukan nama perorangan.\n",
    "- Namun, untuk menjaga konsistensi data (terutama saat menampilkan dataframe di visualisasi), missing values ini diisi dengan placeholder:\n",
    "  - `name` → 'No Name'\n",
    "  - `host_name` → 'Unknown'\n",
    "- Hal ini mencegah visualisasi atau eksplorasi data terganggu oleh nilai NaN yang sebenarnya **tidak mempengaruhi insight bisnis yang ingin disampaikan kepada investor**."
   ]
  },
  {
   "cell_type": "markdown",
   "id": "ccdf0425",
   "metadata": {},
   "source": [
    "#### Handling Missing Values: `last_review` & `reviews_per_month`"
   ]
  },
  {
   "cell_type": "code",
   "execution_count": 13,
   "id": "758daaff",
   "metadata": {},
   "outputs": [
    {
     "data": {
      "image/png": "[encoded data removed]",
      "text/plain": [
       "<Figure size 1000x600 with 1 Axes>"
      ]
     },
     "metadata": {},
     "output_type": "display_data"
    }
   ],
   "source": [
    "# Visualisasi missing values\n",
    "plt.figure(figsize=(10, 6))\n",
    "sns.heatmap(df_copy.isnull(), cbar=False, cmap='viridis')\n",
    "plt.title('Missing Values Heatmap')\n",
    "plt.show()"
   ]
  },
  {
   "cell_type": "code",
   "execution_count": 14,
   "id": "f9bbad32",
   "metadata": {},
   "outputs": [
    {
     "name": "stdout",
     "output_type": "stream",
     "text": [
      "Jumlah baris dengan NaN di kedua kolom: 5790\n",
      "   last_review  reviews_per_month\n",
      "0          NaN                NaN\n",
      "1          NaN                NaN\n",
      "2          NaN                NaN\n",
      "3          NaN                NaN\n",
      "4          NaN                NaN\n",
      "5          NaN                NaN\n",
      "6          NaN                NaN\n",
      "7          NaN                NaN\n",
      "8          NaN                NaN\n",
      "9          NaN                NaN\n",
      "10         NaN                NaN\n",
      "11         NaN                NaN\n",
      "12         NaN                NaN\n",
      "13         NaN                NaN\n",
      "14         NaN                NaN\n",
      "15         NaN                NaN\n",
      "16         NaN                NaN\n",
      "17         NaN                NaN\n",
      "18         NaN                NaN\n",
      "19         NaN                NaN\n"
     ]
    }
   ],
   "source": [
    "# Mengecek apakah baris yang memiliki NaN di 'last_review' juga memiliki NaN di 'reviews_per_month'\n",
    "missing_relationship = df_copy[['last_review', 'reviews_per_month']][df_copy['last_review'].isna() & df_copy['reviews_per_month'].isna()]\n",
    "\n",
    "# Mereset indeks\n",
    "missing_relationship_reset = missing_relationship.reset_index(drop=True)\n",
    "\n",
    "# Menampilkan jumlah baris yang memiliki NaN di kedua kolom\n",
    "print(f\"Jumlah baris dengan NaN di kedua kolom: {missing_relationship_reset.shape[0]}\")\n",
    "\n",
    "# Menampilkan beberapa data yang memiliki NaN di kedua kolom\n",
    "print(missing_relationship_reset.head(20))"
   ]
  },
  {
   "cell_type": "markdown",
   "id": "87f8cdc4",
   "metadata": {},
   "source": [
    "Jika tidak ada ulasan terbaru (`last_review` kosong), maka `reviews_per_month` otomatis juga kosong, yang mengindikasikan bahwa baris-baris ini mungkin adalah listing yang tidak memiliki ulasan sama sekali. Oleh karena itu, untuk menangani missing values pada kedua kolom ini, langkah yang akan diambil adalah sebagai berikut:\n",
    "- Membuat fitur baru `has_review` yang bernilai 1 jika `last_review` ada, dan 0 jika `last_review` kosong. Fitur ini akan memberikan gambaran yang jelas mengenai apakah listing memiliki ulasan atau tidak.\n",
    "- Imputasi nilai `reviews_per_month` dengan 0, karena jika tidak ada ulasan yang diberikan, maka tidak ada ulasan per bulan yang tercatat. Imputasi ini akan memastikan bahwa data tetap konsisten dan dapat digunakan dalam analisis lebih lanjut, tanpa kehilangan informasi terkait performa ulasan.\n",
    "\n",
    "Dengan langkah ini, maka dapat memastikan bahwa kedua kolom tersebut ditangani dengan cara yang logis dan menjaga kualitas dataset tanpa mengorbankan data penting yang tersedia."
   ]
  },
  {
   "cell_type": "code",
   "execution_count": 15,
   "id": "f6b16617",
   "metadata": {},
   "outputs": [],
   "source": [
    "# Mengisi missing values di 'reviews_per_month' dengan 0\n",
    "df_copy['reviews_per_month'].fillna(0, inplace=True)"
   ]
  },
  {
   "cell_type": "markdown",
   "id": "44629187",
   "metadata": {},
   "source": [
    "## Duplicate Check\n",
    "Penting untuk memeriksa apakah ada **baris duplikat** dalam dataset sebelum melanjutkan ke proses analisis. Meskipun ID listing sudah tampaknya unik, proses pengecekan duplikat tetap perlu dilakukan untuk memastikan bahwa tidak ada data error yang bisa mempengaruhi kualitas dan akurasi analisis."
   ]
  },
  {
   "cell_type": "markdown",
   "id": "cccff8c2",
   "metadata": {},
   "source": [
    "### Checklist Decision Duplicate\n",
    "#### Duplicate Row Check"
   ]
  },
  {
   "cell_type": "code",
   "execution_count": 16,
   "id": "23d06886",
   "metadata": {},
   "outputs": [
    {
     "data": {
      "text/plain": [
       "np.int64(0)"
      ]
     },
     "execution_count": 16,
     "metadata": {},
     "output_type": "execute_result"
    }
   ],
   "source": [
    "# Cek duplicate rows\n",
    "df_copy.duplicated().sum()"
   ]
  },
  {
   "cell_type": "code",
   "execution_count": 17,
   "id": "70f1cf9e",
   "metadata": {},
   "outputs": [
    {
     "data": {
      "text/plain": [
       "np.int64(0)"
      ]
     },
     "execution_count": 17,
     "metadata": {},
     "output_type": "execute_result"
    }
   ],
   "source": [
    "# Cek duplikasi berdasarkan kombinasi kolom tertentu\n",
    "duplicate_check = df_copy[['id', 'host_id']].duplicated().sum()\n",
    "duplicate_check"
   ]
  },
  {
   "cell_type": "markdown",
   "id": "2506fb40",
   "metadata": {},
   "source": [
    "- Hasil pemeriksaan menunjukkan **tidak ada baris duplikat identik** di dataset.\n",
    "- Ini menunjukkan bahwa data sudah unik secara listing ID.\n",
    "- Namun, pengecekan duplikat tetap wajib dilakukan sebagai langkah validasi awal untuk memastikan **tidak ada data error yang akan memengaruhi akurasi analisis dan rekomendasi kepada investor.**"
   ]
  },
  {
   "cell_type": "markdown",
   "id": "789df2c5",
   "metadata": {},
   "source": [
    "## Data Type Correction\n",
    "Sebelum melanjutkan analisis, penting untuk memastikan bahwa kolom numerik dan tanggal memiliki **tipe data yang benar**. Koreksi tipe data ini akan memastikan bahwa proses perhitungan dan analisis dapat dilakukan dengan akurat dan efisien."
   ]
  },
  {
   "cell_type": "markdown",
   "id": "df289a1b",
   "metadata": {},
   "source": [
    "### Checklist Decision Data Type\n",
    "#### Data Type Correction: Kolom `price`& `last_review`"
   ]
  },
  {
   "cell_type": "code",
   "execution_count": 18,
   "id": "c36c135b",
   "metadata": {},
   "outputs": [],
   "source": [
    "# Konversi kolom price ke float\n",
    "df_copy['price'] = df_copy['price'].astype(float)\n",
    "\n",
    "# Konversi kolom tanggal\n",
    "df_copy['last_review'] = pd.to_datetime(df_copy['last_review'], errors='coerce')\n",
    "\n",
    "# Mengubah kolom room_type dan neighbourhood menjadi category\n",
    "df_copy['room_type'] = df_copy['room_type'].astype('category')\n",
    "df_copy['neighbourhood'] = df_copy['neighbourhood'].astype('category')"
   ]
  },
  {
   "cell_type": "markdown",
   "id": "5bbee4e7",
   "metadata": {},
   "source": [
    "- Kolom `price` sudah bertipe numerik (int64) dari awal.\n",
    "- Untuk menjaga konsistensi precision saat perhitungan estimasi revenue (yang mungkin melibatkan pembagian), kolom ini diubah menjadi tipe data float.\n",
    "- Hal ini memastikan seluruh perhitungan harga (mean, median, korelasi) dapat diproses secara akurat tanpa error parsing di tahap analisis selanjutnya.\n",
    "- Kolom `last_review` diubah dari object ke datetime agar bisa digunakan dalam perhitungan durasi dan analisis tren waktu.\n",
    "- `room_type` berisi nilai yang terbatas (\"Entire home/apt\", \"Private room\", \"Hotel room\", \"Shared room\"), sehingga sangat cocok untuk menggunakan tipe category dan mengubahnya akan memberikan efisiensi memori.\n",
    "- `neighbourhood` berisi berbagai nama lokasi atau area, yang jumlahnya terbatas, sehingga juga lebih efisien jika diubah menjadi category."
   ]
  },
  {
   "cell_type": "markdown",
   "id": "5a275196",
   "metadata": {},
   "source": [
    "#### Whitespace Trimming"
   ]
  },
  {
   "cell_type": "code",
   "execution_count": 19,
   "id": "ae201f95",
   "metadata": {},
   "outputs": [],
   "source": [
    "# Menghilangkan whitespace ekstra\n",
    "df_copy['room_type'] = df_copy['room_type'].str.strip()\n",
    "df_copy['neighbourhood'] = df_copy['neighbourhood'].str.strip()\n",
    "df_copy['host_name'] = df_copy['host_name'].str.strip()"
   ]
  },
  {
   "cell_type": "markdown",
   "id": "59ac3081",
   "metadata": {},
   "source": [
    "Trim whitespace pada kolom kategorikal agar tidak terjadi error grouping saat aggregasi atau visualisasi.\n",
    "Meski data terlihat bersih, langkah ini tetap dijalankan sebagai langkah pencegahan."
   ]
  },
  {
   "cell_type": "markdown",
   "id": "ded5601d",
   "metadata": {},
   "source": [
    "## Outlier Detection"
   ]
  },
  {
   "cell_type": "code",
   "execution_count": 37,
   "id": "88697765",
   "metadata": {},
   "outputs": [
    {
     "data": {
      "text/plain": [
       "<Figure size 1500x800 with 0 Axes>"
      ]
     },
     "metadata": {},
     "output_type": "display_data"
    },
    {
     "data": {
      "image/png": "[encoded data removed]",
      "text/plain": [
       "<Figure size 1500x800 with 5 Axes>"
      ]
     },
     "metadata": {},
     "output_type": "display_data"
    }
   ],
   "source": [
    "# Visualisasi Outlier dengan Boxplot\n",
    "plt.figure(figsize=(15, 8))\n",
    "\n",
    "# Boxplot untuk 'price'\n",
    "plt.figure(figsize=(15, 8))\n",
    "plt.subplot(2, 3, 1)\n",
    "sns.boxplot(x=df_copy['price'], color='#FF9A9F')\n",
    "\n",
    "# Boxplot untuk 'minimum_nights'\n",
    "plt.subplot(2, 3, 2)\n",
    "sns.boxplot(x=df_copy['minimum_nights'], color='#FF9A9F')\n",
    "\n",
    "# Boxplot untuk 'number_of_reviews'\n",
    "plt.subplot(2, 3, 3)\n",
    "sns.boxplot(x=df_copy['number_of_reviews'], color='#FF9A9F')\n",
    "\n",
    "# Boxplot untuk 'availability_365'\n",
    "plt.subplot(2, 3, 4)\n",
    "sns.boxplot(x=df_copy['availability_365'], color='#FF9A9F')\n",
    "\n",
    "# Boxplot untuk 'number_of_reviews_ltm'\n",
    "plt.subplot(2, 3, 5)\n",
    "sns.boxplot(x=df_copy['number_of_reviews_ltm'], color='#FF9A9F')\n",
    "\n",
    "plt.tight_layout()\n",
    "plt.show()"
   ]
  },
  {
   "cell_type": "markdown",
   "id": "ac686cbf",
   "metadata": {},
   "source": [
    "**Insight Result :**\n",
    "\n",
    "`price`:\n",
    "- Data right skewed\n",
    "- Mayoritas listing terkonsentrasi di rentang harga yang sangat rendah, terlihat dari boxplot yang padat di sisi kiri grafik\n",
    "- Terdapat listing dengan harga yang jauh lebih tinggi daripada kebanyakan listing lain, membentuk outlier yang terletak jauh di sisi kanan grafik\n",
    " - Variasi harga yang luas ini mengindikasikan adanya segmentasi pasar\n",
    " - Perlu menangani outlier untuk melihat apakah ada listing dengan harga 0\n",
    "\n",
    "`minimum_nights`:\n",
    "- Data right skewed\n",
    "- Terlihat ada banyak outlier pada sisi kiri, yang menunjukkan listing dengan durasi menginap yang sangat singkat\n",
    "- Ada juga listing dengan durasi menginap yang lebih panjang yang bisa menunjukkan kebijakan tertentu dari host\n",
    "- Perlu menangani outlier untuk melihat apakah ada listing dengan `minimum_nights` lebih dari satu tahun karena tidak sesuai dengan model bisnis Airbnb yang lebih fokus pada sewa jangka pendek\n",
    "\n",
    "`number_of_reviews`:\n",
    "- Data right skewed\n",
    "- Ada beberapa outlier di sisi kanan yang menunjukkan listing dengan jumlah ulasan yang sangat tinggi (lebih dari 200)\n",
    "- Sebagian besar listing memiliki jumlah ulasan yang lebih rendah\n",
    "- Tidak perlu menangani outlier pada kolom `number_of_reviews` karena distribusi data yang right skewed sudah sesuai dengan pola umum di Airbnb\n",
    "\n",
    "`availability_365`:\n",
    "- Terlihat lebih simetris\n",
    "- Sebagian besar listing tersedia selama 250 hingga 365 hari dalam setahun\n",
    "- Tidak menunjukkan adanya outlier\n",
    "\n",
    "`number_of_reviews_ltm`:\n",
    "- Data right skewed\n",
    "- Beberapa listing memiliki jumlah ulasan yang sangat tinggi dalam 12 bulan terakhir (lebih dari 100 hingga 200 ulasan)\n",
    "- Sebagian besar listing memiliki sedikit ulasan dalam 12 bulan terakhir\n",
    "- Tidak perlu menangani outlier karena bisa memberikan wawasan yang berharga tentang listing premium atau high-demand yang sangat populer di pasar Airbnb"
   ]
  },
  {
   "cell_type": "code",
   "execution_count": 21,
   "id": "cc97d848",
   "metadata": {},
   "outputs": [
    {
     "name": "stdout",
     "output_type": "stream",
     "text": [
      "Jumlah listing dengan harga 0: 1\n",
      "Jumlah listing dengan harga < 500: 753\n"
     ]
    }
   ],
   "source": [
    "# Cek sebaran price\n",
    "print(f\"Jumlah listing dengan harga 0: {df_copy[df_copy['price'] == 0].shape[0]}\")\n",
    "print(f\"Jumlah listing dengan harga < 500: {df_copy[df_copy['price'] < 500].shape[0]}\")"
   ]
  },
  {
   "cell_type": "markdown",
   "id": "27eba0b9",
   "metadata": {},
   "source": [
    "#### Outlier Handling: `price` = 0 & Luxury Listings"
   ]
  },
  {
   "cell_type": "code",
   "execution_count": 22,
   "id": "e0a00b7e",
   "metadata": {},
   "outputs": [],
   "source": [
    "df_copy = df_copy[df_copy['price'] > 0]"
   ]
  },
  {
   "cell_type": "markdown",
   "id": "1e2608cc",
   "metadata": {},
   "source": [
    "- Listing dengan `price = 0` dihapus dari dataset karena:\n",
    "  - Biasanya merupakan kesalahan input data (tidak relevan untuk analisis performa listing).\n",
    "  - Tidak masuk akal dari sisi bisnis platform Airbnb karena listing gratis tidak dapat dimonetisasi.\n",
    "  - Mengganggu perhitungan estimasi revenue & analisis segmentasi harga.\n",
    "- Luxury Listings (dengan price sangat tinggi) **tidak dihapus** karena:\n",
    "  - Listing dengan harga premium adalah segmen pasar yang sah (luxury travel market).\n",
    "  - Membantu host memahami diferensiasi performa di segmen high-end market.\n",
    "  - Akan dianalisis secara khusus dalam segmentasi granular (price_category)."
   ]
  },
  {
   "cell_type": "markdown",
   "id": "8fc583c9",
   "metadata": {},
   "source": [
    "#### Outlier Handling: `minimum_nights` - Extreme High Value (1125 malam)"
   ]
  },
  {
   "cell_type": "code",
   "execution_count": 23,
   "id": "2ed307c0",
   "metadata": {},
   "outputs": [
    {
     "name": "stdout",
     "output_type": "stream",
     "text": [
      "Jumlah listing dengan minimum_nights > 365: 15\n",
      "Distribusi nilai ekstrem minimum_nights:\n",
      "minimum_nights\n",
      "500     3\n",
      "999     2\n",
      "1125    1\n",
      "370     1\n",
      "998     1\n",
      "399     1\n",
      "1115    1\n",
      "700     1\n",
      "450     1\n",
      "1000    1\n",
      "400     1\n",
      "1095    1\n",
      "Name: count, dtype: int64\n"
     ]
    }
   ],
   "source": [
    "# Cek distribusi nilai unik minimum_nights yang ekstrem (di atas 365 malam)\n",
    "extreme_min_nights = df_copy[df_copy['minimum_nights'] > 365]\n",
    "print(f\"Jumlah listing dengan minimum_nights > 365: {extreme_min_nights.shape[0]}\")\n",
    "print(\"Distribusi nilai ekstrem minimum_nights:\")\n",
    "print(extreme_min_nights['minimum_nights'].value_counts())"
   ]
  },
  {
   "cell_type": "code",
   "execution_count": 24,
   "id": "cc116faa",
   "metadata": {},
   "outputs": [
    {
     "name": "stdout",
     "output_type": "stream",
     "text": [
      "Jumlah listing setelah penghapusan outlier: 15838\n"
     ]
    }
   ],
   "source": [
    "# Menghapus listing dengan minimum_nights lebih dari 365\n",
    "df_copy = df_copy[df_copy['minimum_nights'] <= 365]\n",
    "\n",
    "# Menampilkan jumlah listing setelah penghapusan\n",
    "print(f\"Jumlah listing setelah penghapusan outlier: {df_copy.shape[0]}\")"
   ]
  },
  {
   "cell_type": "markdown",
   "id": "c9949ced",
   "metadata": {},
   "source": [
    "Berdasarkan eksplorasi data, ditemukan **15 listing dengan nilai `minimum_nights` lebih dari 365 hari** (maksimum hingga 1125 malam atau ≈ 3 tahun). Nilai ini dianggap tidak wajar dalam konteks operasional Airbnb Bangkok dan berpotensi berasal dari:\n",
    "1. Listing untuk penyewaan jangka panjang (long-term lease) yang terdaftar di Airbnb.\n",
    "2. Kesalahan input dari host (data entry error).\n",
    "\n",
    "#### Alasan Menghapus Data Ini:\n",
    "1. **Menghindari distorsi statistik & visualisasi**\n",
    "   - Outlier yang ekstrem pada kolom minimum_nights dapat mengganggu distribusi data dan menyebabkan kesalahan dalam perhitungan statistik atau visualisasi.\n",
    "   - Menghapus data yang tidak wajar memastikan bahwa analisis statistik dan visualisasi lebih representatif dan akurasi.\n",
    "\n",
    "2. **Volume minoritas yang tidak signifikan**\n",
    "   - Data ini hanya mencakup 0.09% dari total listing (15 dari 15854 baris), sehingga penghapusan data ini tidak memengaruhi representasi data utama secara signifikan.\n",
    "\n",
    "3. **Fokus Analisis Optimalisasi Host & Listing Aktif**\n",
    "   - Tujuan analisis ini adalah untuk mengidentifikasi strategi optimalisasi performa listing dan mengaktifkan listing yang pasif.\n",
    "   - Listing dengan minimum_nights sangat tinggi cenderung tidak relevan karena mereka lebih berfokus pada penyewaan jangka panjang atau kesalahan input data. \n",
    "   - Menghapus data ini membantu fokus pada listing yang lebih sesuai dengan tujuan optimasi Airbnb di Bangkok."
   ]
  },
  {
   "cell_type": "markdown",
   "id": "a8fc3918",
   "metadata": {},
   "source": [
    "## Feature Engineering\n",
    " Melakukan pengecekan ulang untuk memastikan hasil cleaning sesuai ekspektasi dan data siap dianalisis."
   ]
  },
  {
   "cell_type": "markdown",
   "id": "65d061e9",
   "metadata": {},
   "source": [
    "### Status Ulasan pada Listing\n",
    "Banyak listing yang tidak memiliki ulasan atau `last_review` kosong (NaN). Dengan membuat fitur `has_review`, bisa menandai apakah listing sudah punya ulasan atau tidak."
   ]
  },
  {
   "cell_type": "code",
   "execution_count": 25,
   "id": "5cf82cdf",
   "metadata": {},
   "outputs": [],
   "source": [
    "# Membuat fitur baru 'has_review' untuk menandai apakah ada ulasan atau tidak\n",
    "df_copy['has_review'] = df_copy['last_review'].notnull().astype(int)"
   ]
  },
  {
   "cell_type": "markdown",
   "id": "cf385d44",
   "metadata": {},
   "source": [
    "### Segmentasi Harga\n",
    "Listing Airbnb di Bangkok yang masuk dalam kategori Medium Price (harga menengah) biasanya mencakup properti dengan harga sewa bulanan antara THB 500.000 hingga 1.000.000 (sekitar Rp250–500 juta). Namun, berdasarkan data pasar saat ini, hanya sedikit listing yang masuk dalam kategori ini. Sebagian besar listing berada dalam kategori Low Price (harga rendah), dengan harga sewa bulanan di bawah THB 500.000. Oleh karena itu, mengingat distribusi harga yang sangat terkonsentrasi pada harga rendah, segmentasi harga yang digunakan sebagai berikut:\n",
    "- Low Price: Harga < THB 500.000.\n",
    "- High Price: Harga ≥ THB 500.000.\n",
    "\n",
    "Dengan segmentasi ini, Anda dapat lebih mudah menganalisis performa listing berdasarkan kategori harga yang lebih realistis dan sesuai dengan distribusi harga di pasar Airbnb Bangkok.\n",
    "\n",
    "**Sumber:** [FazWaz](https://www.fazwaz.com/advice/airbnb-bangkok-short-term-rentals-come-at-a-steep-price?utm_source=chatgpt.com)"
   ]
  },
  {
   "cell_type": "code",
   "execution_count": 26,
   "id": "4e74fcd0",
   "metadata": {},
   "outputs": [
    {
     "name": "stdout",
     "output_type": "stream",
     "text": [
      "price_category\n",
      "Low Price     15829\n",
      "High Price        9\n",
      "Name: count, dtype: int64\n"
     ]
    }
   ],
   "source": [
    "# Membuat kategori harga baru (price_category)\n",
    "df_copy['price_category'] = pd.cut(df_copy['price'], \n",
    "                                    bins=[0, 500000, float('inf')], \n",
    "                                    labels=['Low Price', 'High Price'], \n",
    "                                    right=False)\n",
    "\n",
    "# Menampilkan jumlah listing pada setiap kategori harga\n",
    "print(df_copy['price_category'].value_counts())"
   ]
  },
  {
   "cell_type": "markdown",
   "id": "f2258f61",
   "metadata": {},
   "source": [
    "**Insight Result:**\n",
    "- Sebagian besar listing memiliki harga di bawah 500.000, yang sesuai dengan segmentasi pasar yang lebih terjangkau\n",
    "- Sangat sedikit listing yang memiliki harga lebih dari 500.000 dan 1.000.000 menunjukkan bahwa pasar mewah di Airbnb di Bangkok tidak terlalu besar\n",
    "- Mayoritas market Airbnb di Bangkok mungkin lebih fokus pada budget travelers, dengan sedikit listing yang masuk ke kategori mewah"
   ]
  },
  {
   "cell_type": "markdown",
   "id": "251f6c5a",
   "metadata": {},
   "source": [
    "### Tipe Host\n",
    "Membuat fitur tipe host bisa sangat berguna untuk menganalisis perbedaan performa antara host profesional dan non-profesional. Berdasarkan jumlah listing yang dimiliki oleh host, bisa membedakan tipe host menjadi host profesional (yang memiliki banyak listing) dan host non-profesional (yang hanya memiliki satu listing)."
   ]
  },
  {
   "cell_type": "code",
   "execution_count": 27,
   "id": "7947f931",
   "metadata": {},
   "outputs": [
    {
     "name": "stdout",
     "output_type": "stream",
     "text": [
      "host_type\n",
      "Professional        11239\n",
      "Non-Professional     4599\n",
      "Name: count, dtype: int64\n"
     ]
    }
   ],
   "source": [
    "# Membuat fitur 'host_type' berdasarkan jumlah listing yang dimiliki host\n",
    "df_copy['host_type'] = df_copy['calculated_host_listings_count'].apply(lambda x: 'Professional' if x > 1 else 'Non-Professional')\n",
    "\n",
    "# Menampilkan jumlah host profesional dan non-profesional\n",
    "print(df_copy['host_type'].value_counts())"
   ]
  },
  {
   "cell_type": "markdown",
   "id": "335161f8",
   "metadata": {},
   "source": [
    "## Post-Cleaning Data Validation\n",
    " Melakukan pengecekan ulang untuk memastikan hasil cleaning sesuai ekspektasi dan data siap dianalisis."
   ]
  },
  {
   "cell_type": "code",
   "execution_count": 28,
   "id": "eead7c51",
   "metadata": {},
   "outputs": [
    {
     "name": "stdout",
     "output_type": "stream",
     "text": [
      "id                                   0\n",
      "name                                 0\n",
      "host_id                              0\n",
      "host_name                            0\n",
      "neighbourhood                        0\n",
      "latitude                             0\n",
      "longitude                            0\n",
      "room_type                            0\n",
      "price                                0\n",
      "minimum_nights                       0\n",
      "number_of_reviews                    0\n",
      "last_review                       5781\n",
      "reviews_per_month                    0\n",
      "calculated_host_listings_count       0\n",
      "availability_365                     0\n",
      "number_of_reviews_ltm                0\n",
      "has_review                           0\n",
      "price_category                       0\n",
      "host_type                            0\n",
      "dtype: int64\n"
     ]
    }
   ],
   "source": [
    "# Memeriksa missing values di seluruh dataset\n",
    "print(df_copy.isnull().sum())"
   ]
  },
  {
   "cell_type": "code",
   "execution_count": 29,
   "id": "e4e04dad",
   "metadata": {},
   "outputs": [
    {
     "name": "stdout",
     "output_type": "stream",
     "text": [
      "0\n"
     ]
    }
   ],
   "source": [
    "# Memeriksa duplikasi berdasarkan 'id' dan 'host_id'\n",
    "print(df_copy.duplicated(subset=['id', 'host_id']).sum())"
   ]
  },
  {
   "cell_type": "code",
   "execution_count": 30,
   "id": "48a2e5f4",
   "metadata": {},
   "outputs": [
    {
     "name": "stdout",
     "output_type": "stream",
     "text": [
      "id                                         int64\n",
      "name                                      object\n",
      "host_id                                    int64\n",
      "host_name                                 object\n",
      "neighbourhood                             object\n",
      "latitude                                 float64\n",
      "longitude                                float64\n",
      "room_type                                 object\n",
      "price                                    float64\n",
      "minimum_nights                             int64\n",
      "number_of_reviews                          int64\n",
      "last_review                       datetime64[ns]\n",
      "reviews_per_month                        float64\n",
      "calculated_host_listings_count             int64\n",
      "availability_365                           int64\n",
      "number_of_reviews_ltm                      int64\n",
      "has_review                                 int64\n",
      "price_category                          category\n",
      "host_type                                 object\n",
      "dtype: object\n"
     ]
    }
   ],
   "source": [
    "print(df_copy.dtypes)"
   ]
  },
  {
   "cell_type": "code",
   "execution_count": 31,
   "id": "21a75d49",
   "metadata": {},
   "outputs": [
    {
     "name": "stdout",
     "output_type": "stream",
     "text": [
      "count    1.583800e+04\n",
      "mean     3.202245e+03\n",
      "std      2.494666e+04\n",
      "min      2.780000e+02\n",
      "25%      9.000000e+02\n",
      "50%      1.429000e+03\n",
      "75%      2.429000e+03\n",
      "max      1.100000e+06\n",
      "Name: price, dtype: float64\n"
     ]
    }
   ],
   "source": [
    "# Cek distribusi harga\n",
    "print(df_copy['price'].describe())"
   ]
  },
  {
   "cell_type": "code",
   "execution_count": 32,
   "id": "56660b77",
   "metadata": {},
   "outputs": [
    {
     "name": "stdout",
     "output_type": "stream",
     "text": [
      "count    15838.000000\n",
      "mean        14.603738\n",
      "std         44.715992\n",
      "min          1.000000\n",
      "25%          1.000000\n",
      "50%          1.000000\n",
      "75%          7.000000\n",
      "max        365.000000\n",
      "Name: minimum_nights, dtype: float64\n"
     ]
    }
   ],
   "source": [
    "# Cek distribusi minimum_nights\n",
    "print(df_copy['minimum_nights'].describe())"
   ]
  },
  {
   "cell_type": "code",
   "execution_count": 33,
   "id": "f2bc30d3",
   "metadata": {},
   "outputs": [
    {
     "name": "stdout",
     "output_type": "stream",
     "text": [
      "count    15838.000000\n",
      "mean         0.516450\n",
      "std          0.952981\n",
      "min          0.000000\n",
      "25%          0.000000\n",
      "50%          0.090000\n",
      "75%          0.670000\n",
      "max         19.130000\n",
      "Name: reviews_per_month, dtype: float64\n"
     ]
    }
   ],
   "source": [
    "# Cek distribusi reviews_per_month\n",
    "print(df_copy['reviews_per_month'].describe())"
   ]
  },
  {
   "cell_type": "code",
   "execution_count": 34,
   "id": "c91d6ebe",
   "metadata": {},
   "outputs": [
    {
     "name": "stdout",
     "output_type": "stream",
     "text": [
      "room_type\n",
      "Entire home/apt    8902\n",
      "Private room       5765\n",
      "Hotel room          648\n",
      "Shared room         523\n",
      "Name: count, dtype: int64\n"
     ]
    }
   ],
   "source": [
    "# Cek distribusi room_type\n",
    "print(df_copy['room_type'].value_counts())"
   ]
  },
  {
   "cell_type": "code",
   "execution_count": 35,
   "id": "a325ff8b",
   "metadata": {},
   "outputs": [
    {
     "name": "stdout",
     "output_type": "stream",
     "text": [
      "neighbourhood\n",
      "Vadhana                 2149\n",
      "Khlong Toei             2096\n",
      "Huai Khwang             1125\n",
      "Ratchathewi             1114\n",
      "Bang Rak                 827\n",
      "Sathon                   808\n",
      "Phra Nakhon              619\n",
      "Phra Khanong             558\n",
      "Chatu Chak               547\n",
      "Bang Na                  456\n",
      "Parthum Wan              454\n",
      "Din Daeng                444\n",
      "Phaya Thai               422\n",
      "Suanluang                380\n",
      "Khlong San               357\n",
      "Bang Kapi                260\n",
      "Bang Sue                 249\n",
      "Bang Phlat               217\n",
      "Yan na wa                200\n",
      "Thon buri                181\n",
      "Don Mueang               167\n",
      "Pra Wet                  156\n",
      "Phasi Charoen            155\n",
      "Bangkok Noi              152\n",
      "Lat Krabang              149\n",
      "Bang Kho laen            140\n",
      "Lak Si                   126\n",
      "Pom Prap Sattru Phai     123\n",
      "Bang Khen                116\n",
      "Samphanthawong           114\n",
      "Wang Thong Lang          100\n",
      "Bang Khae                 92\n",
      "Bangkok Yai               90\n",
      "Dusit                     90\n",
      "Chom Thong                74\n",
      "Min Buri                  62\n",
      "Lat Phrao                 56\n",
      "Khan Na Yao               55\n",
      "Bueng Kum                 54\n",
      "Rat Burana                53\n",
      "Taling Chan               50\n",
      "Saphan Sung               45\n",
      "Sai Mai                   40\n",
      "Khlong Sam Wa             32\n",
      "Thung khru                23\n",
      "Bang Khun thain           21\n",
      "Nong Chok                 14\n",
      "Thawi Watthana            12\n",
      "Nong Khaem                 9\n",
      "Bang Bon                   5\n",
      "Name: count, dtype: int64\n"
     ]
    }
   ],
   "source": [
    "# Cek distribusi neighbourhood\n",
    "print(df_copy['neighbourhood'].value_counts())"
   ]
  },
  {
   "cell_type": "markdown",
   "id": "564b1f81",
   "metadata": {},
   "source": [
    "## Save Cleaned Dataset\n",
    "\n",
    "Dataset telah melalui proses Data Preparation."
   ]
  },
  {
   "cell_type": "code",
   "execution_count": 40,
   "id": "1c0977e8",
   "metadata": {},
   "outputs": [],
   "source": [
    "# Save Cleaned Dataset\n",
    "df_copy.to_csv('airbnb_bangkok_cleaned.csv', index=False)\n",
    "df = df_copy.copy()"
   ]
  },
  {
   "cell_type": "markdown",
   "id": "0720866a",
   "metadata": {},
   "source": [
    "Dengan data yang telah dibersihkan dan fitur yang telah dipersiapkan, analisis terhadap hubungan antar variabel dapat dilakukan dengan lebih akurat. Selanjutnya, tahapan berikutnya dalam proyek ini akan fokus pada eksplorasi data lebih lanjut, untuk menjawab pertanyaan-pertanyaan analitis yang telah dirumuskan sebelumnya."
   ]
  }
 ],
 "metadata": {
  "kernelspec": {
   "display_name": "Python 3",
   "language": "python",
   "name": "python3"
  },
  "language_info": {
   "codemirror_mode": {
    "name": "ipython",
    "version": 3
   },
   "file_extension": ".py",
   "mimetype": "text/x-python",
   "name": "python",
   "nbconvert_exporter": "python",
   "pygments_lexer": "ipython3",
   "version": "3.13.5"
  }
 },
 "nbformat": 4,
 "nbformat_minor": 5
}
